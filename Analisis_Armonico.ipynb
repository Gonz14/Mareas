{
  "cells": [
    {
      "cell_type": "code",
      "execution_count": null,
      "metadata": {
        "id": "R2n9FG2QAoyo"
      },
      "outputs": [],
      "source": [
        "import numpy as np\n",
        "import pandas as pd\n",
        "import matplotlib.pyplot as plt\n",
        "from scipy.signal import find_peaks"
      ]
    },
    {
      "cell_type": "markdown",
      "metadata": {
        "id": "AFlEm1j68pgI"
      },
      "source": [
        "# TP 4: Análisis Armónico\n",
        "\n",
        "## Teoría de Equilibrio\n",
        "De la Teoría de Equilibrio, se obtuvo que la variación de la superficie del mar bajo la acción de la fuerza generadora de marea puede escribirse cómo:\n",
        "\n",
        "$$\\eta(t) = \\sum f_i H_{Ti} \\cos(V+u)_i $$\n",
        "\n",
        "En dónde $f_i$ es el factor nodal, $H_{Ti}$ es la amplitud teórica para cada componente y $(V+u)_i$ es el argumento de equilibrio de cada componente.\n",
        "\n",
        "Repasemos un poco cada uno de estos términos:\n"
      ]
    },
    {
      "cell_type": "markdown",
      "metadata": {
        "id": "RR1TBSzK_xiN"
      },
      "source": [
        "### Amplitud\n",
        "\n",
        "Esta amplitud, según la Teoría de Equilibrio y sus supuestos, depende de la componente vertical de la fuerza de marea, del radio terrestre, de la latitud y de U (U=$\\frac{M_L}{M_T}(\\frac{a}{c_L})^3$, con $a$ radio terrestre, $M$ masas de la tierra y del astro y $c$ distancia promedio entre tierra-astro)\n",
        "\n",
        "### Factor Nodal\n",
        "\n",
        "Depende de la oblicuidad de la órbita de la luna y permite ajustar la importancia relativa de cada componente a un instante determinado.\n",
        "\n",
        "### Argumento de Equilibrio\n",
        "\n",
        "El argumento de equilibrio de cada componente es una combinación lineal de los parámetros astronómicos medios $s$, $T$, $p$, $h$, $N$, $\\xi$ y $\\nu$.\n",
        "Estos parámetros varían uniformemente en el tiempo y sus velocidades son:\n",
        "\n",
        "$\\frac{ds}{dt} = 0.54901 °/h$\n",
        "\n",
        "$\\frac{dp}{dt}=0.00464183 °/h$\n",
        "\n",
        "$\\frac{dh}{dt}=0.0406864 °/h$\n",
        "\n",
        "$\\frac{dT}{dt}=15 °/h$\n",
        "\n",
        "$\\frac{dN}{dt}=-0.00220641 °/h$\n",
        "\n"
      ]
    },
    {
      "cell_type": "markdown",
      "metadata": {
        "id": "DhYFijL-ZIfb"
      },
      "source": [
        "Supongamos por ejemplo que nos paramos en Monte Hermoso."
      ]
    },
    {
      "cell_type": "markdown",
      "metadata": {
        "id": "Mk8uUVBiDoxj"
      },
      "source": [
        "Entonces, si bien las amplitudes y las fases no son las esperadas, sabemos que las frecuencias están bien descritas por estos armónicos.\n",
        "\n",
        "Por lo tanto, se toma el enfoque de corregir o adaptar la amplitud y las fases de estos armónicos a la región de interés.\n",
        "\n",
        "$$\\eta(t) = \\sum \\color{blue}{f_i} \\color{red}{H_{i}} \\cos(\\color{blue}{(V+u)_i} - \\color{red}{K'_i}) $$\n",
        "\n",
        "En dónde se marcó los parámetros que dependientes del tiempo (azul) y del sitio (rojo).\n",
        "\n",
        "*Importante: los términos en azul están definidos en función del tiempo (en las escalas que nos interesan). Entonces, si conocemos la corrección para un sitio, podemos saber cuál será la elevación de la superficie generada por la fueza de marea.* **Es decir, conozco la marea para cualquier momento pasado o futuro, de aquí que se lo llame un fenómeno determinístico**"
      ]
    },
    {
      "cell_type": "markdown",
      "metadata": {
        "id": "MsiZR9PX9uNp"
      },
      "source": [
        "## Componentes armónicas de marea: Monte Hermoso\n",
        "\n",
        "En el archivo se tienen valores de amplitud ($H(m)$) y fase ($K'(°)$) de las componentes armónicas más importantes del sitio."
      ]
    },
    {
      "cell_type": "code",
      "execution_count": null,
      "metadata": {
        "colab": {
          "base_uri": "https://localhost:8080/"
        },
        "id": "zbtu2x3h8lg7",
        "outputId": "4865b3f6-2658-4ed0-ab35-d803121216ef"
      },
      "outputs": [
        {
          "output_type": "stream",
          "name": "stdout",
          "text": [
            "--2022-11-08 22:45:46--  https://raw.githubusercontent.com/lupalon/Mareas2022/main/HKmh.xlsx\n",
            "Resolving raw.githubusercontent.com (raw.githubusercontent.com)... 185.199.108.133, 185.199.110.133, 185.199.109.133, ...\n",
            "Connecting to raw.githubusercontent.com (raw.githubusercontent.com)|185.199.108.133|:443... connected.\n",
            "HTTP request sent, awaiting response... 200 OK\n",
            "Length: 9161 (8.9K) [application/octet-stream]\n",
            "Saving to: ‘HKmh.xlsx’\n",
            "\n",
            "\rHKmh.xlsx             0%[                    ]       0  --.-KB/s               \rHKmh.xlsx           100%[===================>]   8.95K  --.-KB/s    in 0s      \n",
            "\n",
            "2022-11-08 22:45:47 (101 MB/s) - ‘HKmh.xlsx’ saved [9161/9161]\n",
            "\n"
          ]
        }
      ],
      "source": [
        "#@title Carga del archivo { form-width: \"10%\" }\n",
        "#t1=np.arange(0,24*415.98,0.0833)\n",
        "!wget https://raw.githubusercontent.com/lupalon/Mareas2022/main/HKmh.xlsx\n",
        "HKmh=pd.read_excel(r'HKmh.xlsx')\n",
        "HKmh.rename(columns={HKmh.columns[0]:'nom',HKmh.columns[1]:'H',HKmh.columns[2]:'sigma',HKmh.columns[3]:'K'},inplace=True)\n"
      ]
    },
    {
      "cell_type": "code",
      "execution_count": null,
      "metadata": {
        "colab": {
          "base_uri": "https://localhost:8080/",
          "height": 300
        },
        "id": "LO6ap92dBvo1",
        "outputId": "52b4364e-f217-41f3-bd40-0bd1dc30c9d0"
      },
      "outputs": [
        {
          "output_type": "execute_result",
          "data": {
            "text/plain": [
              "  nom       H      sigma      K\n",
              "0  S0  1.8900   0.000000    0.0\n",
              "1  M2  1.1598  28.984104  160.3\n",
              "2  S2  0.1966  30.000000  292.4\n",
              "3  N2  0.2249  28.439729   89.5\n",
              "4  K2  0.0536  30.082137  292.1\n",
              "5  K1  0.1920  15.041069   30.1\n",
              "6  O1  0.1570  13.943036  343.8\n",
              "7  P1  0.0640  14.958931   30.4"
            ],
            "text/html": [
              "\n",
              "  <div id=\"df-67dc6b43-43ae-4f27-a339-3e8bc1898a1d\">\n",
              "    <div class=\"colab-df-container\">\n",
              "      <div>\n",
              "<style scoped>\n",
              "    .dataframe tbody tr th:only-of-type {\n",
              "        vertical-align: middle;\n",
              "    }\n",
              "\n",
              "    .dataframe tbody tr th {\n",
              "        vertical-align: top;\n",
              "    }\n",
              "\n",
              "    .dataframe thead th {\n",
              "        text-align: right;\n",
              "    }\n",
              "</style>\n",
              "<table border=\"1\" class=\"dataframe\">\n",
              "  <thead>\n",
              "    <tr style=\"text-align: right;\">\n",
              "      <th></th>\n",
              "      <th>nom</th>\n",
              "      <th>H</th>\n",
              "      <th>sigma</th>\n",
              "      <th>K</th>\n",
              "    </tr>\n",
              "  </thead>\n",
              "  <tbody>\n",
              "    <tr>\n",
              "      <th>0</th>\n",
              "      <td>S0</td>\n",
              "      <td>1.8900</td>\n",
              "      <td>0.000000</td>\n",
              "      <td>0.0</td>\n",
              "    </tr>\n",
              "    <tr>\n",
              "      <th>1</th>\n",
              "      <td>M2</td>\n",
              "      <td>1.1598</td>\n",
              "      <td>28.984104</td>\n",
              "      <td>160.3</td>\n",
              "    </tr>\n",
              "    <tr>\n",
              "      <th>2</th>\n",
              "      <td>S2</td>\n",
              "      <td>0.1966</td>\n",
              "      <td>30.000000</td>\n",
              "      <td>292.4</td>\n",
              "    </tr>\n",
              "    <tr>\n",
              "      <th>3</th>\n",
              "      <td>N2</td>\n",
              "      <td>0.2249</td>\n",
              "      <td>28.439729</td>\n",
              "      <td>89.5</td>\n",
              "    </tr>\n",
              "    <tr>\n",
              "      <th>4</th>\n",
              "      <td>K2</td>\n",
              "      <td>0.0536</td>\n",
              "      <td>30.082137</td>\n",
              "      <td>292.1</td>\n",
              "    </tr>\n",
              "    <tr>\n",
              "      <th>5</th>\n",
              "      <td>K1</td>\n",
              "      <td>0.1920</td>\n",
              "      <td>15.041069</td>\n",
              "      <td>30.1</td>\n",
              "    </tr>\n",
              "    <tr>\n",
              "      <th>6</th>\n",
              "      <td>O1</td>\n",
              "      <td>0.1570</td>\n",
              "      <td>13.943036</td>\n",
              "      <td>343.8</td>\n",
              "    </tr>\n",
              "    <tr>\n",
              "      <th>7</th>\n",
              "      <td>P1</td>\n",
              "      <td>0.0640</td>\n",
              "      <td>14.958931</td>\n",
              "      <td>30.4</td>\n",
              "    </tr>\n",
              "  </tbody>\n",
              "</table>\n",
              "</div>\n",
              "      <button class=\"colab-df-convert\" onclick=\"convertToInteractive('df-67dc6b43-43ae-4f27-a339-3e8bc1898a1d')\"\n",
              "              title=\"Convert this dataframe to an interactive table.\"\n",
              "              style=\"display:none;\">\n",
              "        \n",
              "  <svg xmlns=\"http://www.w3.org/2000/svg\" height=\"24px\"viewBox=\"0 0 24 24\"\n",
              "       width=\"24px\">\n",
              "    <path d=\"M0 0h24v24H0V0z\" fill=\"none\"/>\n",
              "    <path d=\"M18.56 5.44l.94 2.06.94-2.06 2.06-.94-2.06-.94-.94-2.06-.94 2.06-2.06.94zm-11 1L8.5 8.5l.94-2.06 2.06-.94-2.06-.94L8.5 2.5l-.94 2.06-2.06.94zm10 10l.94 2.06.94-2.06 2.06-.94-2.06-.94-.94-2.06-.94 2.06-2.06.94z\"/><path d=\"M17.41 7.96l-1.37-1.37c-.4-.4-.92-.59-1.43-.59-.52 0-1.04.2-1.43.59L10.3 9.45l-7.72 7.72c-.78.78-.78 2.05 0 2.83L4 21.41c.39.39.9.59 1.41.59.51 0 1.02-.2 1.41-.59l7.78-7.78 2.81-2.81c.8-.78.8-2.07 0-2.86zM5.41 20L4 18.59l7.72-7.72 1.47 1.35L5.41 20z\"/>\n",
              "  </svg>\n",
              "      </button>\n",
              "      \n",
              "  <style>\n",
              "    .colab-df-container {\n",
              "      display:flex;\n",
              "      flex-wrap:wrap;\n",
              "      gap: 12px;\n",
              "    }\n",
              "\n",
              "    .colab-df-convert {\n",
              "      background-color: #E8F0FE;\n",
              "      border: none;\n",
              "      border-radius: 50%;\n",
              "      cursor: pointer;\n",
              "      display: none;\n",
              "      fill: #1967D2;\n",
              "      height: 32px;\n",
              "      padding: 0 0 0 0;\n",
              "      width: 32px;\n",
              "    }\n",
              "\n",
              "    .colab-df-convert:hover {\n",
              "      background-color: #E2EBFA;\n",
              "      box-shadow: 0px 1px 2px rgba(60, 64, 67, 0.3), 0px 1px 3px 1px rgba(60, 64, 67, 0.15);\n",
              "      fill: #174EA6;\n",
              "    }\n",
              "\n",
              "    [theme=dark] .colab-df-convert {\n",
              "      background-color: #3B4455;\n",
              "      fill: #D2E3FC;\n",
              "    }\n",
              "\n",
              "    [theme=dark] .colab-df-convert:hover {\n",
              "      background-color: #434B5C;\n",
              "      box-shadow: 0px 1px 3px 1px rgba(0, 0, 0, 0.15);\n",
              "      filter: drop-shadow(0px 1px 2px rgba(0, 0, 0, 0.3));\n",
              "      fill: #FFFFFF;\n",
              "    }\n",
              "  </style>\n",
              "\n",
              "      <script>\n",
              "        const buttonEl =\n",
              "          document.querySelector('#df-67dc6b43-43ae-4f27-a339-3e8bc1898a1d button.colab-df-convert');\n",
              "        buttonEl.style.display =\n",
              "          google.colab.kernel.accessAllowed ? 'block' : 'none';\n",
              "\n",
              "        async function convertToInteractive(key) {\n",
              "          const element = document.querySelector('#df-67dc6b43-43ae-4f27-a339-3e8bc1898a1d');\n",
              "          const dataTable =\n",
              "            await google.colab.kernel.invokeFunction('convertToInteractive',\n",
              "                                                     [key], {});\n",
              "          if (!dataTable) return;\n",
              "\n",
              "          const docLinkHtml = 'Like what you see? Visit the ' +\n",
              "            '<a target=\"_blank\" href=https://colab.research.google.com/notebooks/data_table.ipynb>data table notebook</a>'\n",
              "            + ' to learn more about interactive tables.';\n",
              "          element.innerHTML = '';\n",
              "          dataTable['output_type'] = 'display_data';\n",
              "          await google.colab.output.renderOutput(dataTable, element);\n",
              "          const docLink = document.createElement('div');\n",
              "          docLink.innerHTML = docLinkHtml;\n",
              "          element.appendChild(docLink);\n",
              "        }\n",
              "      </script>\n",
              "    </div>\n",
              "  </div>\n",
              "  "
            ]
          },
          "metadata": {},
          "execution_count": 3
        }
      ],
      "source": [
        "HKmh"
      ]
    },
    {
      "cell_type": "markdown",
      "metadata": {
        "id": "O__Ub7CAHo2C"
      },
      "source": [
        "Notemos:\n",
        "\n",
        "*   Aparece una \"componente\" llamada $S_0$ que tiene fase 0 y frecuencia angular 0. Esto no es más que el nivel medio en formato de \"onda\" para agregarlo a la sumatoria.\n",
        "*   Las frecuencias de las ondas son las derivadas de la Teoría de Equilibrio\n",
        "* La relación entre la amplitud de la M2 y la S2 no es la que esperaríamos en función de la TdE.\n",
        "* El orden de importancia de las componentes no es el esperado.\n",
        "\n",
        ""
      ]
    },
    {
      "cell_type": "markdown",
      "metadata": {
        "id": "pxqjCf24gq7b"
      },
      "source": [
        "## Cambios respecto a la Teoría de Equilibrio\n",
        "\n",
        "Veamos los cambios respecto a la marea resultante de utilizar las componentes tal cual las vimos en la práctica anterior.\n",
        "\n",
        "En principio consideremos solamente los cambios en amplitud de las componentes."
      ]
    },
    {
      "cell_type": "code",
      "execution_count": null,
      "metadata": {
        "id": "u8x6mqOqZNxI"
      },
      "outputs": [],
      "source": [
        "#Defino un eje temporal en horas (en este caso un mes cada 15 minutos)\n",
        "t=np.arange(0,30*24,0.25)\n",
        "#Escribo las componentes de marea usando las amplitudes para Monte Hermoso\n",
        "M2mh=HKmh.H.iloc[1]*np.cos(np.deg2rad(HKmh.sigma.iloc[1]*t))\n",
        "S2mh=HKmh.H.iloc[2]*np.cos(np.deg2rad(HKmh.sigma.iloc[2]*t))\n",
        "N2mh=HKmh.H.iloc[3]*np.cos(np.deg2rad(HKmh.sigma.iloc[3]*t))\n",
        "#Escribo las componentes de marea usando las amplitudes de la TdE\n",
        "M2=1*np.cos(np.deg2rad(HKmh.sigma.iloc[1]*t))\n",
        "S2=0.46*np.cos(np.deg2rad(HKmh.sigma.iloc[2]*t))\n",
        "N2=0.1915*np.cos(np.deg2rad(HKmh.sigma.iloc[3]*t))"
      ]
    },
    {
      "cell_type": "code",
      "execution_count": null,
      "metadata": {
        "cellView": "form",
        "colab": {
          "base_uri": "https://localhost:8080/",
          "height": 313
        },
        "id": "bDHUGlpkNlJW",
        "outputId": "f2589db8-044d-4f43-da71-2a31c0f78692"
      },
      "outputs": [
        {
          "output_type": "execute_result",
          "data": {
            "text/plain": [
              "[Text(0.5, 1.0, 'Marea a partir de armónicos M2, S2 y N2')]"
            ]
          },
          "metadata": {},
          "execution_count": 5
        },
        {
          "output_type": "display_data",
          "data": {
            "text/plain": [
              "<Figure size 576x288 with 2 Axes>"
            ],
            "image/png": "[encoded data removed]"
          },
          "metadata": {
            "needs_background": "light"
          }
        }
      ],
      "source": [
        "#@title Figura 1\n",
        "fig,axs=plt.subplots(2,1,figsize=(8,4))\n",
        "axs[0].plot(t/24,M2+S2+N2,'b')\n",
        "axs[1].plot(t/24,M2mh+S2mh+N2mh,'r')\n",
        "for ax in axs.flat:\n",
        "  ax.set(xlim=[0,30],ylabel='Altura (m)')\n",
        "  ax.grid(ls=':',which='both')\n",
        "axs[1].set(xlabel='días')\n",
        "axs[0].legend(['Teoría de Equilibrio'])\n",
        "axs[1].legend(['Monte Hermoso'])\n",
        "axs[0].set(title='Marea a partir de armónicos M2, S2 y N2')"
      ]
    },
    {
      "cell_type": "markdown",
      "metadata": {
        "id": "57YhEMoLhg4g"
      },
      "source": [
        "Aún puede observarse el ciclo de sicigias/cuadraturas durante el mes, pero con algún desplazamiento temporal y una marcada asimetría de amplitud.\n",
        "\n",
        "Si además consideramos la fase de las componentes de Monte Hermoso."
      ]
    },
    {
      "cell_type": "code",
      "execution_count": null,
      "metadata": {
        "id": "iS4vGXd_P6Tz"
      },
      "outputs": [],
      "source": [
        "#Calculamos las componentes de marea con amplitud y fase de Monte Hermoso\n",
        "M2mh=HKmh.H.iloc[1]*np.cos(np.deg2rad(HKmh.sigma.iloc[1]*t-HKmh.K.iloc[1]))\n",
        "S2mh=HKmh.H.iloc[2]*np.cos(np.deg2rad(HKmh.sigma.iloc[2]*t-HKmh.K.iloc[2]))\n",
        "N2mh=HKmh.H.iloc[3]*np.cos(np.deg2rad(HKmh.sigma.iloc[3]*t-HKmh.K.iloc[3]))"
      ]
    },
    {
      "cell_type": "code",
      "execution_count": null,
      "metadata": {
        "cellView": "form",
        "colab": {
          "base_uri": "https://localhost:8080/",
          "height": 297
        },
        "id": "eZZ0F-kkRnjg",
        "outputId": "66eca0fd-f414-44f9-a660-966f6664ca5c"
      },
      "outputs": [
        {
          "output_type": "execute_result",
          "data": {
            "text/plain": [
              "<matplotlib.legend.Legend at 0x7fae78ab0d10>"
            ]
          },
          "metadata": {},
          "execution_count": 7
        },
        {
          "output_type": "display_data",
          "data": {
            "text/plain": [
              "<Figure size 576x288 with 2 Axes>"
            ],
            "image/png": "[encoded data removed]"
          },
          "metadata": {
            "needs_background": "light"
          }
        }
      ],
      "source": [
        "#@title Figura 2\n",
        "fig,axs=plt.subplots(2,1,figsize=(8,4))\n",
        "axs[0].plot(t/24,M2+S2+N2,'b')\n",
        "axs[1].plot(t/24,M2mh+S2mh+N2mh,'r')\n",
        "for ax in axs.flat:\n",
        "  ax.set(xlim=[0,30],ylabel='Altura (m)')\n",
        "  ax.grid(ls=':',which='both')\n",
        "axs[1].set(xlabel='días')\n",
        "axs[0].legend(['Teoría de Equilibrio'])\n",
        "axs[1].legend(['Con amplitudes y fases Monte Hermoso'])"
      ]
    },
    {
      "cell_type": "markdown",
      "metadata": {
        "id": "1Fgz0heKidTt"
      },
      "source": [
        "## Tablas de Marea\n",
        "\n",
        "Volviendo a la expresión de la marea.\n",
        "\n",
        "$$\\eta(t) = \\sum \\color{blue}{f_i} \\color{red}{H_{i}} \\cos(\\color{blue}{(V+u)_i} - \\color{red}{K'_i}) $$\n",
        "\n",
        "Entonces, conociendo las expresiónes de los términos en azul y los valores de los términos en rojo --> marea en cualquier momento!\n",
        "\n",
        "Si es a futuro se llama: *predicción de marea*.\n",
        "\n",
        "En Argentina, es el Servicio de Hidrografía Naval el encargado de elaborar y publicar las Tablas de Marea para distintos sitios del litoral marítimo. En el sitio web del SHN podemos encontrar esta información, veamos por ejemplo para Monte Hermoso.\n",
        "\n",
        "http://www.hidro.gov.ar/oceanografia/Tmareas/RE_Mareas.asp\n"
      ]
    },
    {
      "cell_type": "markdown",
      "metadata": {
        "id": "A8okdhgMlcIY"
      },
      "source": [
        "## Predicción de Marea\n",
        "\n",
        "De acuerdo a lo dicho, estamos en condiciones de predecir la marea en Monte Hermoso (siempre que nos den el factor nodal y el argumento de equilibrio de las componentes 😉).\n",
        "\n",
        "En los archivos *f_mh_2022.csv* y *vu_mh.csv* están los valores de los factores nodales y argumentos de equilibrio para las componentes M2, S2, N2, K2, K1, O1 y P1. Fueron calculados para el periodo del '2022-10-21 00:00:00 UTC' hasya '2022-10-22 03:00:00 UTC' cada 5 minutos.\n"
      ]
    },
    {
      "cell_type": "code",
      "execution_count": null,
      "metadata": {
        "cellView": "form",
        "colab": {
          "base_uri": "https://localhost:8080/"
        },
        "id": "wdYUaywfq2CM",
        "outputId": "d4058613-7348-4dd7-e20a-b364762f779f"
      },
      "outputs": [
        {
          "output_type": "stream",
          "name": "stdout",
          "text": [
            "--2022-11-08 22:45:48--  https://raw.githubusercontent.com/lupalon/Mareas2022/main/f_mh_2022.csv\n",
            "Resolving raw.githubusercontent.com (raw.githubusercontent.com)... 185.199.108.133, 185.199.109.133, 185.199.110.133, ...\n",
            "Connecting to raw.githubusercontent.com (raw.githubusercontent.com)|185.199.108.133|:443... connected.\n",
            "HTTP request sent, awaiting response... 200 OK\n",
            "Length: 40019 (39K) [text/plain]\n",
            "Saving to: ‘f_mh_2022.csv’\n",
            "\n",
            "\rf_mh_2022.csv         0%[                    ]       0  --.-KB/s               \rf_mh_2022.csv       100%[===================>]  39.08K  --.-KB/s    in 0.003s  \n",
            "\n",
            "2022-11-08 22:45:48 (11.5 MB/s) - ‘f_mh_2022.csv’ saved [40019/40019]\n",
            "\n",
            "--2022-11-08 22:45:48--  https://raw.githubusercontent.com/lupalon/Mareas2022/main/vu_mh_2022.csv\n",
            "Resolving raw.githubusercontent.com (raw.githubusercontent.com)... 185.199.111.133, 185.199.108.133, 185.199.109.133, ...\n",
            "Connecting to raw.githubusercontent.com (raw.githubusercontent.com)|185.199.111.133|:443... connected.\n",
            "HTTP request sent, awaiting response... 200 OK\n",
            "Length: 49167 (48K) [text/plain]\n",
            "Saving to: ‘vu_mh_2022.csv’\n",
            "\n",
            "vu_mh_2022.csv      100%[===================>]  48.01K  --.-KB/s    in 0.01s   \n",
            "\n",
            "2022-11-08 22:45:49 (4.58 MB/s) - ‘vu_mh_2022.csv’ saved [49167/49167]\n",
            "\n"
          ]
        }
      ],
      "source": [
        "#@title Carga de factor nodal y argumento de equilibrio\n",
        "!wget https://raw.githubusercontent.com/lupalon/Mareas2022/main/f_mh_2022.csv\n",
        "f=pd.read_csv(r'f_mh_2022.csv',index_col=0)\n",
        "!wget https://raw.githubusercontent.com/lupalon/Mareas2022/main/vu_mh_2022.csv\n",
        "vu=pd.read_csv(r'vu_mh_2022.csv',index_col=0)"
      ]
    },
    {
      "cell_type": "code",
      "execution_count": null,
      "metadata": {
        "id": "1QpHD2kEtEN6"
      },
      "outputs": [],
      "source": [
        "# Prediccion de marea para Monte Hermoso\n",
        "Q=len(HKmh)-1 #Le resto 1 porque tiene el nivel medio\n",
        "ondas=pd.DataFrame()\n",
        "for i in range(Q):\n",
        "  ondas.insert(i,i,(HKmh.H.iloc[i+1])*f.iloc[:,i].values*np.cos(vu.iloc[:,i].values-np.deg2rad(HKmh.K.iloc[i+1])))\n",
        "suma=ondas.sum(axis=1).values\n",
        "prediccion=pd.DataFrame(np.around(suma,4),pd.to_datetime(f.index),['pred'])\n",
        "#--> notar que cuando cargué los factores nodales la fecha se cargó como un \"objeto\" y no como \"datetimeindex\""
      ]
    },
    {
      "cell_type": "code",
      "execution_count": null,
      "metadata": {
        "cellView": "form",
        "colab": {
          "base_uri": "https://localhost:8080/",
          "height": 297
        },
        "id": "_CqtrWCUva0c",
        "outputId": "b76ea2a8-f377-4290-e398-6c73154c97de"
      },
      "outputs": [
        {
          "output_type": "display_data",
          "data": {
            "text/plain": [
              "<Figure size 864x288 with 1 Axes>"
            ],
            "image/png": "[encoded data removed]"
          },
          "metadata": {
            "needs_background": "light"
          }
        }
      ],
      "source": [
        "#@title Figura: Predicción hoy Monte Hermoso\n",
        "import matplotlib.dates as mdates\n",
        "fig, axs=plt.subplots(1,1,figsize=(12,4))\n",
        "axs.plot(prediccion.index,prediccion.pred)\n",
        "axs.xaxis.set_major_locator(mdates.HourLocator([0,6,12,18]))\n",
        "axs.xaxis.set_minor_locator(mdates.HourLocator())\n",
        "axs.xaxis.set_major_formatter(mdates.DateFormatter('%d-%m %H:%M'))\n",
        "axs.grid(color='lightgrey',linestyle=':',which='both')\n",
        "axs.set(xlabel='Tiempo (UTC)')\n",
        "plt.tight_layout()"
      ]
    },
    {
      "cell_type": "code",
      "execution_count": null,
      "metadata": {
        "id": "wfA27nJt1RNY"
      },
      "outputs": [],
      "source": [
        "#Del sitio del SHN\n",
        "fech_SHN=['2022-10-21 02:08:00','2022-10-21 08:00:00','2022-10-21 14:00:00','2022-10-21 20:34:00']\n",
        "pyb_SHN=np.array([2.65,1.44,2.68,1.07])-1.94"
      ]
    },
    {
      "cell_type": "code",
      "execution_count": null,
      "metadata": {
        "id": "aTSAYUmR2Uah"
      },
      "outputs": [],
      "source": [
        "tabla=pd.DataFrame(data=pyb_SHN,index=pd.to_datetime(fech_SHN),columns=['pred'])"
      ]
    },
    {
      "cell_type": "code",
      "execution_count": null,
      "metadata": {
        "colab": {
          "base_uri": "https://localhost:8080/",
          "height": 175
        },
        "id": "T57T5DNN4CdK",
        "outputId": "d2a2d514-90ab-4998-9111-22af10c66553"
      },
      "outputs": [
        {
          "output_type": "execute_result",
          "data": {
            "text/plain": [
              "                     pred\n",
              "2022-10-21 02:08:00  0.71\n",
              "2022-10-21 08:00:00 -0.50\n",
              "2022-10-21 14:00:00  0.74\n",
              "2022-10-21 20:34:00 -0.87"
            ],
            "text/html": [
              "\n",
              "  <div id=\"df-67ef3618-3a30-487e-aede-cc4423ae58c1\">\n",
              "    <div class=\"colab-df-container\">\n",
              "      <div>\n",
              "<style scoped>\n",
              "    .dataframe tbody tr th:only-of-type {\n",
              "        vertical-align: middle;\n",
              "    }\n",
              "\n",
              "    .dataframe tbody tr th {\n",
              "        vertical-align: top;\n",
              "    }\n",
              "\n",
              "    .dataframe thead th {\n",
              "        text-align: right;\n",
              "    }\n",
              "</style>\n",
              "<table border=\"1\" class=\"dataframe\">\n",
              "  <thead>\n",
              "    <tr style=\"text-align: right;\">\n",
              "      <th></th>\n",
              "      <th>pred</th>\n",
              "    </tr>\n",
              "  </thead>\n",
              "  <tbody>\n",
              "    <tr>\n",
              "      <th>2022-10-21 02:08:00</th>\n",
              "      <td>0.71</td>\n",
              "    </tr>\n",
              "    <tr>\n",
              "      <th>2022-10-21 08:00:00</th>\n",
              "      <td>-0.50</td>\n",
              "    </tr>\n",
              "    <tr>\n",
              "      <th>2022-10-21 14:00:00</th>\n",
              "      <td>0.74</td>\n",
              "    </tr>\n",
              "    <tr>\n",
              "      <th>2022-10-21 20:34:00</th>\n",
              "      <td>-0.87</td>\n",
              "    </tr>\n",
              "  </tbody>\n",
              "</table>\n",
              "</div>\n",
              "      <button class=\"colab-df-convert\" onclick=\"convertToInteractive('df-67ef3618-3a30-487e-aede-cc4423ae58c1')\"\n",
              "              title=\"Convert this dataframe to an interactive table.\"\n",
              "              style=\"display:none;\">\n",
              "        \n",
              "  <svg xmlns=\"http://www.w3.org/2000/svg\" height=\"24px\"viewBox=\"0 0 24 24\"\n",
              "       width=\"24px\">\n",
              "    <path d=\"M0 0h24v24H0V0z\" fill=\"none\"/>\n",
              "    <path d=\"M18.56 5.44l.94 2.06.94-2.06 2.06-.94-2.06-.94-.94-2.06-.94 2.06-2.06.94zm-11 1L8.5 8.5l.94-2.06 2.06-.94-2.06-.94L8.5 2.5l-.94 2.06-2.06.94zm10 10l.94 2.06.94-2.06 2.06-.94-2.06-.94-.94-2.06-.94 2.06-2.06.94z\"/><path d=\"M17.41 7.96l-1.37-1.37c-.4-.4-.92-.59-1.43-.59-.52 0-1.04.2-1.43.59L10.3 9.45l-7.72 7.72c-.78.78-.78 2.05 0 2.83L4 21.41c.39.39.9.59 1.41.59.51 0 1.02-.2 1.41-.59l7.78-7.78 2.81-2.81c.8-.78.8-2.07 0-2.86zM5.41 20L4 18.59l7.72-7.72 1.47 1.35L5.41 20z\"/>\n",
              "  </svg>\n",
              "      </button>\n",
              "      \n",
              "  <style>\n",
              "    .colab-df-container {\n",
              "      display:flex;\n",
              "      flex-wrap:wrap;\n",
              "      gap: 12px;\n",
              "    }\n",
              "\n",
              "    .colab-df-convert {\n",
              "      background-color: #E8F0FE;\n",
              "      border: none;\n",
              "      border-radius: 50%;\n",
              "      cursor: pointer;\n",
              "      display: none;\n",
              "      fill: #1967D2;\n",
              "      height: 32px;\n",
              "      padding: 0 0 0 0;\n",
              "      width: 32px;\n",
              "    }\n",
              "\n",
              "    .colab-df-convert:hover {\n",
              "      background-color: #E2EBFA;\n",
              "      box-shadow: 0px 1px 2px rgba(60, 64, 67, 0.3), 0px 1px 3px 1px rgba(60, 64, 67, 0.15);\n",
              "      fill: #174EA6;\n",
              "    }\n",
              "\n",
              "    [theme=dark] .colab-df-convert {\n",
              "      background-color: #3B4455;\n",
              "      fill: #D2E3FC;\n",
              "    }\n",
              "\n",
              "    [theme=dark] .colab-df-convert:hover {\n",
              "      background-color: #434B5C;\n",
              "      box-shadow: 0px 1px 3px 1px rgba(0, 0, 0, 0.15);\n",
              "      filter: drop-shadow(0px 1px 2px rgba(0, 0, 0, 0.3));\n",
              "      fill: #FFFFFF;\n",
              "    }\n",
              "  </style>\n",
              "\n",
              "      <script>\n",
              "        const buttonEl =\n",
              "          document.querySelector('#df-67ef3618-3a30-487e-aede-cc4423ae58c1 button.colab-df-convert');\n",
              "        buttonEl.style.display =\n",
              "          google.colab.kernel.accessAllowed ? 'block' : 'none';\n",
              "\n",
              "        async function convertToInteractive(key) {\n",
              "          const element = document.querySelector('#df-67ef3618-3a30-487e-aede-cc4423ae58c1');\n",
              "          const dataTable =\n",
              "            await google.colab.kernel.invokeFunction('convertToInteractive',\n",
              "                                                     [key], {});\n",
              "          if (!dataTable) return;\n",
              "\n",
              "          const docLinkHtml = 'Like what you see? Visit the ' +\n",
              "            '<a target=\"_blank\" href=https://colab.research.google.com/notebooks/data_table.ipynb>data table notebook</a>'\n",
              "            + ' to learn more about interactive tables.';\n",
              "          element.innerHTML = '';\n",
              "          dataTable['output_type'] = 'display_data';\n",
              "          await google.colab.output.renderOutput(dataTable, element);\n",
              "          const docLink = document.createElement('div');\n",
              "          docLink.innerHTML = docLinkHtml;\n",
              "          element.appendChild(docLink);\n",
              "        }\n",
              "      </script>\n",
              "    </div>\n",
              "  </div>\n",
              "  "
            ]
          },
          "metadata": {},
          "execution_count": 13
        }
      ],
      "source": [
        "tabla"
      ]
    },
    {
      "cell_type": "code",
      "execution_count": null,
      "metadata": {
        "cellView": "form",
        "colab": {
          "base_uri": "https://localhost:8080/",
          "height": 297
        },
        "id": "3mPg9HJe3axR",
        "outputId": "898d098a-52fa-4dd7-b5c0-550837a934c6"
      },
      "outputs": [
        {
          "output_type": "display_data",
          "data": {
            "text/plain": [
              "<Figure size 864x288 with 1 Axes>"
            ],
            "image/png": "[encoded data removed]"
          },
          "metadata": {
            "needs_background": "light"
          }
        }
      ],
      "source": [
        "#@title Figura: Predicción MH y Tabla MH\n",
        "fig, axs=plt.subplots(1,1,figsize=(12,4))\n",
        "axs.plot(prediccion.pred)\n",
        "axs.plot(tabla,'ro')\n",
        "axs.set(ylabel='Marea (m)')\n",
        "axs.xaxis.set_major_locator(mdates.HourLocator([0,6,12,18]))\n",
        "axs.xaxis.set_minor_locator(mdates.HourLocator())\n",
        "axs.xaxis.set_major_formatter(mdates.DateFormatter('%d-%m %H:%M'))\n",
        "axs.grid(color='lightgrey',linestyle=':',which='both')\n",
        "axs.legend(['Predicción','Tablas SHN'])\n",
        "plt.tight_layout()"
      ]
    },
    {
      "cell_type": "markdown",
      "metadata": {
        "id": "T6dMgR3EaUZ3"
      },
      "source": [
        "Entonces, para poder determinar la marea en un sitio en particular se necesita, además de los parámetros atronómicos de la TdE (factores nodales y argumentos de equilibrio), constantes armónicas de marea (amplitudes y fases).\n",
        "\n",
        "$$\\eta(t) = \\sum \\color{blue}{f_i} \\color{red}{H_{i}} \\cos(\\color{blue}{(V+u)_i} - \\color{red}{K'_i}) $$\n",
        "\n",
        "**¿De dónde salen esas constantes?**\n",
        "\n",
        "DEL ANÁLISIS ARMÓNICO DE OBSERVACIONES DEL NIVEL DEL MAR.\n",
        "\n",
        "\n",
        "\n",
        "\n",
        "\n"
      ]
    },
    {
      "cell_type": "markdown",
      "metadata": {
        "id": "cFZCRN4Cb3nm"
      },
      "source": [
        "## Análisis Armónico\n",
        "\n",
        "Si consideramos que el nivel del mar observado puede ser expresado como:\n",
        "\n",
        "$$h(t)=S_0+\\sum_{i=1}^{Q} R_i \\cos(\\sigma_it-\\alpha_i)$$\n",
        "\n",
        "Con $S_0$ es el nivel medio del mar (considerado constante).\n",
        "$R_i$, $\\sigma_i$ y $\\alpha_i$ son la amplitud, a frecuencia angular (de la TdE) y la fase de cada armónico.\n",
        "\n"
      ]
    },
    {
      "cell_type": "markdown",
      "metadata": {
        "id": "dmzWbyUEKvOj"
      },
      "source": [
        "Entonces, para hacer el Análisis Armónico de acuerdo a como está planteado, se requiere una serie de observaciones del nivel del mar y las frecuencias angulares de las componentes armónicas derivadas de la TdE."
      ]
    },
    {
      "cell_type": "code",
      "execution_count": null,
      "metadata": {
        "colab": {
          "base_uri": "https://localhost:8080/",
          "height": 640
        },
        "id": "vVQWUxE0mQ0k",
        "outputId": "c0a3d445-fb3b-49d5-b71c-95db013ec264"
      },
      "outputs": [
        {
          "output_type": "stream",
          "name": "stdout",
          "text": [
            "--2022-11-08 22:45:50--  https://raw.githubusercontent.com/lupalon/Mareas2022/main/MH_julio2002.csv\n",
            "Resolving raw.githubusercontent.com (raw.githubusercontent.com)... 185.199.111.133, 185.199.108.133, 185.199.109.133, ...\n",
            "Connecting to raw.githubusercontent.com (raw.githubusercontent.com)|185.199.111.133|:443... connected.\n",
            "HTTP request sent, awaiting response... 200 OK\n",
            "Length: 127245 (124K) [text/plain]\n",
            "Saving to: ‘MH_julio2002.csv’\n",
            "\n",
            "\rMH_julio2002.csv      0%[                    ]       0  --.-KB/s               \rMH_julio2002.csv    100%[===================>] 124.26K  --.-KB/s    in 0.02s   \n",
            "\n",
            "2022-11-08 22:45:50 (5.79 MB/s) - ‘MH_julio2002.csv’ saved [127245/127245]\n",
            "\n"
          ]
        },
        {
          "output_type": "execute_result",
          "data": {
            "text/plain": [
              "                       pred\n",
              "2002-07-01 00:00:00  0.7101\n",
              "2002-07-01 00:10:00  0.6126\n",
              "2002-07-01 00:20:00  0.5100\n",
              "2002-07-01 00:30:00  0.4031\n",
              "2002-07-01 00:40:00  0.2925\n",
              "...                     ...\n",
              "2002-08-01 02:20:00 -0.0044\n",
              "2002-08-01 02:30:00 -0.0997\n",
              "2002-08-01 02:40:00 -0.1945\n",
              "2002-08-01 02:50:00 -0.2881\n",
              "2002-08-01 03:00:00 -0.3798\n",
              "\n",
              "[4483 rows x 1 columns]"
            ],
            "text/html": [
              "\n",
              "  <div id=\"df-c133f331-8083-4545-89f6-6cfd4c70c424\">\n",
              "    <div class=\"colab-df-container\">\n",
              "      <div>\n",
              "<style scoped>\n",
              "    .dataframe tbody tr th:only-of-type {\n",
              "        vertical-align: middle;\n",
              "    }\n",
              "\n",
              "    .dataframe tbody tr th {\n",
              "        vertical-align: top;\n",
              "    }\n",
              "\n",
              "    .dataframe thead th {\n",
              "        text-align: right;\n",
              "    }\n",
              "</style>\n",
              "<table border=\"1\" class=\"dataframe\">\n",
              "  <thead>\n",
              "    <tr style=\"text-align: right;\">\n",
              "      <th></th>\n",
              "      <th>pred</th>\n",
              "    </tr>\n",
              "  </thead>\n",
              "  <tbody>\n",
              "    <tr>\n",
              "      <th>2002-07-01 00:00:00</th>\n",
              "      <td>0.7101</td>\n",
              "    </tr>\n",
              "    <tr>\n",
              "      <th>2002-07-01 00:10:00</th>\n",
              "      <td>0.6126</td>\n",
              "    </tr>\n",
              "    <tr>\n",
              "      <th>2002-07-01 00:20:00</th>\n",
              "      <td>0.5100</td>\n",
              "    </tr>\n",
              "    <tr>\n",
              "      <th>2002-07-01 00:30:00</th>\n",
              "      <td>0.4031</td>\n",
              "    </tr>\n",
              "    <tr>\n",
              "      <th>2002-07-01 00:40:00</th>\n",
              "      <td>0.2925</td>\n",
              "    </tr>\n",
              "    <tr>\n",
              "      <th>...</th>\n",
              "      <td>...</td>\n",
              "    </tr>\n",
              "    <tr>\n",
              "      <th>2002-08-01 02:20:00</th>\n",
              "      <td>-0.0044</td>\n",
              "    </tr>\n",
              "    <tr>\n",
              "      <th>2002-08-01 02:30:00</th>\n",
              "      <td>-0.0997</td>\n",
              "    </tr>\n",
              "    <tr>\n",
              "      <th>2002-08-01 02:40:00</th>\n",
              "      <td>-0.1945</td>\n",
              "    </tr>\n",
              "    <tr>\n",
              "      <th>2002-08-01 02:50:00</th>\n",
              "      <td>-0.2881</td>\n",
              "    </tr>\n",
              "    <tr>\n",
              "      <th>2002-08-01 03:00:00</th>\n",
              "      <td>-0.3798</td>\n",
              "    </tr>\n",
              "  </tbody>\n",
              "</table>\n",
              "<p>4483 rows × 1 columns</p>\n",
              "</div>\n",
              "      <button class=\"colab-df-convert\" onclick=\"convertToInteractive('df-c133f331-8083-4545-89f6-6cfd4c70c424')\"\n",
              "              title=\"Convert this dataframe to an interactive table.\"\n",
              "              style=\"display:none;\">\n",
              "        \n",
              "  <svg xmlns=\"http://www.w3.org/2000/svg\" height=\"24px\"viewBox=\"0 0 24 24\"\n",
              "       width=\"24px\">\n",
              "    <path d=\"M0 0h24v24H0V0z\" fill=\"none\"/>\n",
              "    <path d=\"M18.56 5.44l.94 2.06.94-2.06 2.06-.94-2.06-.94-.94-2.06-.94 2.06-2.06.94zm-11 1L8.5 8.5l.94-2.06 2.06-.94-2.06-.94L8.5 2.5l-.94 2.06-2.06.94zm10 10l.94 2.06.94-2.06 2.06-.94-2.06-.94-.94-2.06-.94 2.06-2.06.94z\"/><path d=\"M17.41 7.96l-1.37-1.37c-.4-.4-.92-.59-1.43-.59-.52 0-1.04.2-1.43.59L10.3 9.45l-7.72 7.72c-.78.78-.78 2.05 0 2.83L4 21.41c.39.39.9.59 1.41.59.51 0 1.02-.2 1.41-.59l7.78-7.78 2.81-2.81c.8-.78.8-2.07 0-2.86zM5.41 20L4 18.59l7.72-7.72 1.47 1.35L5.41 20z\"/>\n",
              "  </svg>\n",
              "      </button>\n",
              "      \n",
              "  <style>\n",
              "    .colab-df-container {\n",
              "      display:flex;\n",
              "      flex-wrap:wrap;\n",
              "      gap: 12px;\n",
              "    }\n",
              "\n",
              "    .colab-df-convert {\n",
              "      background-color: #E8F0FE;\n",
              "      border: none;\n",
              "      border-radius: 50%;\n",
              "      cursor: pointer;\n",
              "      display: none;\n",
              "      fill: #1967D2;\n",
              "      height: 32px;\n",
              "      padding: 0 0 0 0;\n",
              "      width: 32px;\n",
              "    }\n",
              "\n",
              "    .colab-df-convert:hover {\n",
              "      background-color: #E2EBFA;\n",
              "      box-shadow: 0px 1px 2px rgba(60, 64, 67, 0.3), 0px 1px 3px 1px rgba(60, 64, 67, 0.15);\n",
              "      fill: #174EA6;\n",
              "    }\n",
              "\n",
              "    [theme=dark] .colab-df-convert {\n",
              "      background-color: #3B4455;\n",
              "      fill: #D2E3FC;\n",
              "    }\n",
              "\n",
              "    [theme=dark] .colab-df-convert:hover {\n",
              "      background-color: #434B5C;\n",
              "      box-shadow: 0px 1px 3px 1px rgba(0, 0, 0, 0.15);\n",
              "      filter: drop-shadow(0px 1px 2px rgba(0, 0, 0, 0.3));\n",
              "      fill: #FFFFFF;\n",
              "    }\n",
              "  </style>\n",
              "\n",
              "      <script>\n",
              "        const buttonEl =\n",
              "          document.querySelector('#df-c133f331-8083-4545-89f6-6cfd4c70c424 button.colab-df-convert');\n",
              "        buttonEl.style.display =\n",
              "          google.colab.kernel.accessAllowed ? 'block' : 'none';\n",
              "\n",
              "        async function convertToInteractive(key) {\n",
              "          const element = document.querySelector('#df-c133f331-8083-4545-89f6-6cfd4c70c424');\n",
              "          const dataTable =\n",
              "            await google.colab.kernel.invokeFunction('convertToInteractive',\n",
              "                                                     [key], {});\n",
              "          if (!dataTable) return;\n",
              "\n",
              "          const docLinkHtml = 'Like what you see? Visit the ' +\n",
              "            '<a target=\"_blank\" href=https://colab.research.google.com/notebooks/data_table.ipynb>data table notebook</a>'\n",
              "            + ' to learn more about interactive tables.';\n",
              "          element.innerHTML = '';\n",
              "          dataTable['output_type'] = 'display_data';\n",
              "          await google.colab.output.renderOutput(dataTable, element);\n",
              "          const docLink = document.createElement('div');\n",
              "          docLink.innerHTML = docLinkHtml;\n",
              "          element.appendChild(docLink);\n",
              "        }\n",
              "      </script>\n",
              "    </div>\n",
              "  </div>\n",
              "  "
            ]
          },
          "metadata": {},
          "execution_count": 15
        }
      ],
      "source": [
        "!wget https://raw.githubusercontent.com/lupalon/Mareas2022/main/MH_julio2002.csv\n",
        "serie=pd.read_csv(r'MH_julio2002.csv',index_col=0)\n",
        "serie"
      ]
    },
    {
      "cell_type": "code",
      "execution_count": null,
      "metadata": {
        "id": "Gu2ed3wBU4fD"
      },
      "outputs": [],
      "source": [
        "series=serie.pred.values\n",
        "sigmas=HKmh.sigma.iloc[0::].values\n",
        "dt=1/6"
      ]
    },
    {
      "cell_type": "code",
      "execution_count": null,
      "metadata": {
        "colab": {
          "base_uri": "https://localhost:8080/"
        },
        "id": "gehc2ZpgQTvc",
        "outputId": "8773e9ee-f6fe-4030-811c-85fd5a7ef68f"
      },
      "outputs": [
        {
          "output_type": "stream",
          "name": "stdout",
          "text": [
            "[ 0.         28.9841042  30.         28.4397295  30.0821373  15.0410686\n",
            " 13.9430356  14.9589314  57.96820847]\n"
          ]
        }
      ],
      "source": [
        "sigmas\n",
        "sigmas=np.append(sigmas, 57.968208475)\n",
        "print(sigmas)"
      ]
    },
    {
      "cell_type": "code",
      "execution_count": null,
      "metadata": {
        "colab": {
          "base_uri": "https://localhost:8080/",
          "height": 89
        },
        "id": "lztdxYQgVChO",
        "outputId": "4e6d1de3-e38f-4500-85d6-87d3b1b89f42"
      },
      "outputs": [
        {
          "output_type": "execute_result",
          "data": {
            "text/plain": [
              "'Q=len(sigmas)\\nT=len(series)\\ns=series[0:(T-1+T%2)] #En caso de que sea par, tiramos el último\\nT=len(s)\\n#t=np.linspace(-(T//2),T//2,len(s))\\nt=np.linspace(0,T*dt,T)\\neleA=[]\\neleB=[]\\nfor i in range(Q):\\n  eleA.append(np.cos(np.radians(sigmas[i]*t)))\\n  eleB.append(np.sin(np.radians(sigmas[i]*t)))\\neleA=np.array(eleA)\\neleB=np.array(eleB)\\nELE=np.concatenate((eleA.T,eleB.T),axis=1)'"
            ],
            "application/vnd.google.colaboratory.intrinsic+json": {
              "type": "string"
            }
          },
          "metadata": {},
          "execution_count": 18
        }
      ],
      "source": [
        "\"\"\"Q=len(sigmas)\n",
        "T=len(series)\n",
        "s=series[0:(T-1+T%2)] #En caso de que sea par, tiramos el último\n",
        "T=len(s)\n",
        "#t=np.linspace(-(T//2),T//2,len(s))\n",
        "t=np.linspace(0,T*dt,T)\n",
        "eleA=[]\n",
        "eleB=[]\n",
        "for i in range(Q):\n",
        "  eleA.append(np.cos(np.radians(sigmas[i]*t)))\n",
        "  eleB.append(np.sin(np.radians(sigmas[i]*t)))\n",
        "eleA=np.array(eleA)\n",
        "eleB=np.array(eleB)\n",
        "ELE=np.concatenate((eleA.T,eleB.T),axis=1)\"\"\""
      ]
    },
    {
      "cell_type": "code",
      "execution_count": null,
      "metadata": {
        "colab": {
          "base_uri": "https://localhost:8080/",
          "height": 35
        },
        "id": "-QQIJbshXfW1",
        "outputId": "945c8f23-3621-4af3-df80-b19a7d497c24"
      },
      "outputs": [
        {
          "output_type": "execute_result",
          "data": {
            "text/plain": [
              "'ver=np.linalg.lstsq(ELE,s,rcond=None)'"
            ],
            "application/vnd.google.colaboratory.intrinsic+json": {
              "type": "string"
            }
          },
          "metadata": {},
          "execution_count": 19
        }
      ],
      "source": [
        "\"\"\"ver=np.linalg.lstsq(ELE,s,rcond=None)\"\"\""
      ]
    },
    {
      "cell_type": "code",
      "execution_count": null,
      "metadata": {
        "colab": {
          "base_uri": "https://localhost:8080/",
          "height": 35
        },
        "id": "igEfg_gTctg1",
        "outputId": "b33e434d-6e91-4dcb-df66-1cbe800f0f76"
      },
      "outputs": [
        {
          "output_type": "execute_result",
          "data": {
            "text/plain": [
              "'\"R=np.around(np.sqrt(ver[0][0:Q]**2+ver[0][Q::]**2),4)\\nR'"
            ],
            "application/vnd.google.colaboratory.intrinsic+json": {
              "type": "string"
            }
          },
          "metadata": {},
          "execution_count": 20
        }
      ],
      "source": [
        "\"\"\"\"R=np.around(np.sqrt(ver[0][0:Q]**2+ver[0][Q::]**2),4)\n",
        "R\"\"\""
      ]
    },
    {
      "cell_type": "code",
      "execution_count": null,
      "metadata": {
        "colab": {
          "base_uri": "https://localhost:8080/",
          "height": 35
        },
        "id": "Ywf93NI_IV6K",
        "outputId": "8c907d22-311c-434b-9ffe-4af746d2a941"
      },
      "outputs": [
        {
          "output_type": "execute_result",
          "data": {
            "text/plain": [
              "'alpha=np.around(np.arctan2(ver[0][Q::],ver[0][0:Q]),4)\\nalpha'"
            ],
            "application/vnd.google.colaboratory.intrinsic+json": {
              "type": "string"
            }
          },
          "metadata": {},
          "execution_count": 21
        }
      ],
      "source": [
        "\"\"\"alpha=np.around(np.arctan2(ver[0][Q::],ver[0][0:Q]),4)\n",
        "alpha\"\"\""
      ]
    },
    {
      "cell_type": "code",
      "execution_count": null,
      "metadata": {
        "id": "ymGEUI60f2xK"
      },
      "outputs": [],
      "source": [
        "#Series supongo que es un array,idem sigmas, dt el delta temporal en horas\n",
        "def AnAr(series,sigmas,dt):\n",
        "  Q=len(sigmas)\n",
        "  T=len(series)\n",
        "  s=series[0:(T-1+T%2)] #En caso de que sea par, tiramos el último\n",
        "  T=len(s)\n",
        "  t=np.linspace(-(T//2),T//2,len(s))\n",
        "  t=np.linspace(0,len(s)*dt,len(s))\n",
        "  eleA=[]\n",
        "  eleB=[]\n",
        "  for i in range(Q):\n",
        "    eleA.append(np.cos(np.radians(sigmas[i]*t)))\n",
        "    eleB.append(np.sin(np.radians(sigmas[i]*t)))\n",
        "  eleA=np.array(eleA)\n",
        "  eleB=np.array(eleB)\n",
        "  ELE=np.concatenate((eleA.T,eleB.T),axis=1)\n",
        "  vemosELE=np.linalg.lstsq(ELE,s,rcond=None)\n",
        "  R=np.around(np.sqrt(vemosELE[0][0:Q]**2+vemosELE[0][Q::]**2),4)\n",
        "  a=np.around(np.arctan2(vemosELE[0][Q::],vemosELE[0][0:Q]),4)\n",
        "  a=a*180/np.pi\n",
        "  a[a<0]=a[a<0]+360\n",
        "  a=np.around(a,4)\n",
        "  return(R,a)"
      ]
    },
    {
      "cell_type": "code",
      "execution_count": null,
      "metadata": {
        "id": "Rmm-DGOmYLBa"
      },
      "outputs": [],
      "source": [
        "R,a=AnAr(series,sigmas,dt)"
      ]
    },
    {
      "cell_type": "code",
      "execution_count": null,
      "metadata": {
        "colab": {
          "base_uri": "https://localhost:8080/"
        },
        "id": "1zHj_SjNaT-7",
        "outputId": "7b9c19b9-edc2-457e-9ee4-7766e7ce70b9"
      },
      "outputs": [
        {
          "output_type": "execute_result",
          "data": {
            "text/plain": [
              "array([1.0000e-04, 1.1505e+00, 2.3330e-01, 2.2780e-01, 8.2000e-02,\n",
              "       1.9160e-01, 1.6720e-01, 7.2800e-02, 2.0000e-04])"
            ]
          },
          "metadata": {},
          "execution_count": 24
        }
      ],
      "source": [
        "R"
      ]
    },
    {
      "cell_type": "code",
      "execution_count": null,
      "metadata": {
        "colab": {
          "base_uri": "https://localhost:8080/"
        },
        "id": "nT9kvDOn43BI",
        "outputId": "e748fac3-771c-45e8-b328-982b85c74f5a"
      },
      "outputs": [
        {
          "output_type": "execute_result",
          "data": {
            "text/plain": [
              "array([180.0004, 304.3773, 300.4869,  39.6831, 137.8193, 209.6272,\n",
              "       303.5637, 218.2101, 328.7337])"
            ]
          },
          "metadata": {},
          "execution_count": 25
        }
      ],
      "source": [
        "a"
      ]
    },
    {
      "cell_type": "markdown",
      "metadata": {
        "id": "nX9yhM1S6Tcn"
      },
      "source": [
        "## AA Gonzalo"
      ]
    },
    {
      "cell_type": "code",
      "execution_count": null,
      "metadata": {
        "colab": {
          "base_uri": "https://localhost:8080/",
          "height": 672
        },
        "id": "TwvVXd0rw9iU",
        "outputId": "01b11315-86a8-4d75-d30c-694cc067771d"
      },
      "outputs": [
        {
          "output_type": "stream",
          "name": "stdout",
          "text": [
            "--2022-11-08 22:45:50--  https://raw.githubusercontent.com/lupalon/Mareas2022/main/8_OBS_MdP_MAR_2011_MAY_2012.xlsx\n",
            "Resolving raw.githubusercontent.com (raw.githubusercontent.com)... 185.199.108.133, 185.199.111.133, 185.199.109.133, ...\n",
            "Connecting to raw.githubusercontent.com (raw.githubusercontent.com)|185.199.108.133|:443... connected.\n",
            "HTTP request sent, awaiting response... 200 OK\n",
            "Length: 2275927 (2.2M) [application/octet-stream]\n",
            "Saving to: ‘8_OBS_MdP_MAR_2011_MAY_2012.xlsx’\n",
            "\n",
            "\r          8_OBS_MdP   0%[                    ]       0  --.-KB/s               \r8_OBS_MdP_MAR_2011_ 100%[===================>]   2.17M  --.-KB/s    in 0.06s   \n",
            "\n",
            "2022-11-08 22:45:50 (34.1 MB/s) - ‘8_OBS_MdP_MAR_2011_MAY_2012.xlsx’ saved [2275927/2275927]\n",
            "\n"
          ]
        },
        {
          "output_type": "execute_result",
          "data": {
            "text/plain": [
              "                       OBS\n",
              "FECHA                     \n",
              "2011-03-27 03:00:00  1.969\n",
              "2011-03-27 03:05:00  1.967\n",
              "2011-03-27 03:10:00  1.968\n",
              "2011-03-27 03:15:00  1.968\n",
              "2011-03-27 03:20:00  1.981\n",
              "...                    ...\n",
              "2012-05-16 02:10:00  0.392\n",
              "2012-05-16 02:15:00  0.393\n",
              "2012-05-16 02:20:00  0.398\n",
              "2012-05-16 02:25:00  0.402\n",
              "2012-05-16 02:30:00  0.413\n",
              "\n",
              "[119803 rows x 1 columns]"
            ],
            "text/html": [
              "\n",
              "  <div id=\"df-388151d3-e5b9-4c4c-ba1f-0ac2b9a4b226\">\n",
              "    <div class=\"colab-df-container\">\n",
              "      <div>\n",
              "<style scoped>\n",
              "    .dataframe tbody tr th:only-of-type {\n",
              "        vertical-align: middle;\n",
              "    }\n",
              "\n",
              "    .dataframe tbody tr th {\n",
              "        vertical-align: top;\n",
              "    }\n",
              "\n",
              "    .dataframe thead th {\n",
              "        text-align: right;\n",
              "    }\n",
              "</style>\n",
              "<table border=\"1\" class=\"dataframe\">\n",
              "  <thead>\n",
              "    <tr style=\"text-align: right;\">\n",
              "      <th></th>\n",
              "      <th>OBS</th>\n",
              "    </tr>\n",
              "    <tr>\n",
              "      <th>FECHA</th>\n",
              "      <th></th>\n",
              "    </tr>\n",
              "  </thead>\n",
              "  <tbody>\n",
              "    <tr>\n",
              "      <th>2011-03-27 03:00:00</th>\n",
              "      <td>1.969</td>\n",
              "    </tr>\n",
              "    <tr>\n",
              "      <th>2011-03-27 03:05:00</th>\n",
              "      <td>1.967</td>\n",
              "    </tr>\n",
              "    <tr>\n",
              "      <th>2011-03-27 03:10:00</th>\n",
              "      <td>1.968</td>\n",
              "    </tr>\n",
              "    <tr>\n",
              "      <th>2011-03-27 03:15:00</th>\n",
              "      <td>1.968</td>\n",
              "    </tr>\n",
              "    <tr>\n",
              "      <th>2011-03-27 03:20:00</th>\n",
              "      <td>1.981</td>\n",
              "    </tr>\n",
              "    <tr>\n",
              "      <th>...</th>\n",
              "      <td>...</td>\n",
              "    </tr>\n",
              "    <tr>\n",
              "      <th>2012-05-16 02:10:00</th>\n",
              "      <td>0.392</td>\n",
              "    </tr>\n",
              "    <tr>\n",
              "      <th>2012-05-16 02:15:00</th>\n",
              "      <td>0.393</td>\n",
              "    </tr>\n",
              "    <tr>\n",
              "      <th>2012-05-16 02:20:00</th>\n",
              "      <td>0.398</td>\n",
              "    </tr>\n",
              "    <tr>\n",
              "      <th>2012-05-16 02:25:00</th>\n",
              "      <td>0.402</td>\n",
              "    </tr>\n",
              "    <tr>\n",
              "      <th>2012-05-16 02:30:00</th>\n",
              "      <td>0.413</td>\n",
              "    </tr>\n",
              "  </tbody>\n",
              "</table>\n",
              "<p>119803 rows × 1 columns</p>\n",
              "</div>\n",
              "      <button class=\"colab-df-convert\" onclick=\"convertToInteractive('df-388151d3-e5b9-4c4c-ba1f-0ac2b9a4b226')\"\n",
              "              title=\"Convert this dataframe to an interactive table.\"\n",
              "              style=\"display:none;\">\n",
              "        \n",
              "  <svg xmlns=\"http://www.w3.org/2000/svg\" height=\"24px\"viewBox=\"0 0 24 24\"\n",
              "       width=\"24px\">\n",
              "    <path d=\"M0 0h24v24H0V0z\" fill=\"none\"/>\n",
              "    <path d=\"M18.56 5.44l.94 2.06.94-2.06 2.06-.94-2.06-.94-.94-2.06-.94 2.06-2.06.94zm-11 1L8.5 8.5l.94-2.06 2.06-.94-2.06-.94L8.5 2.5l-.94 2.06-2.06.94zm10 10l.94 2.06.94-2.06 2.06-.94-2.06-.94-.94-2.06-.94 2.06-2.06.94z\"/><path d=\"M17.41 7.96l-1.37-1.37c-.4-.4-.92-.59-1.43-.59-.52 0-1.04.2-1.43.59L10.3 9.45l-7.72 7.72c-.78.78-.78 2.05 0 2.83L4 21.41c.39.39.9.59 1.41.59.51 0 1.02-.2 1.41-.59l7.78-7.78 2.81-2.81c.8-.78.8-2.07 0-2.86zM5.41 20L4 18.59l7.72-7.72 1.47 1.35L5.41 20z\"/>\n",
              "  </svg>\n",
              "      </button>\n",
              "      \n",
              "  <style>\n",
              "    .colab-df-container {\n",
              "      display:flex;\n",
              "      flex-wrap:wrap;\n",
              "      gap: 12px;\n",
              "    }\n",
              "\n",
              "    .colab-df-convert {\n",
              "      background-color: #E8F0FE;\n",
              "      border: none;\n",
              "      border-radius: 50%;\n",
              "      cursor: pointer;\n",
              "      display: none;\n",
              "      fill: #1967D2;\n",
              "      height: 32px;\n",
              "      padding: 0 0 0 0;\n",
              "      width: 32px;\n",
              "    }\n",
              "\n",
              "    .colab-df-convert:hover {\n",
              "      background-color: #E2EBFA;\n",
              "      box-shadow: 0px 1px 2px rgba(60, 64, 67, 0.3), 0px 1px 3px 1px rgba(60, 64, 67, 0.15);\n",
              "      fill: #174EA6;\n",
              "    }\n",
              "\n",
              "    [theme=dark] .colab-df-convert {\n",
              "      background-color: #3B4455;\n",
              "      fill: #D2E3FC;\n",
              "    }\n",
              "\n",
              "    [theme=dark] .colab-df-convert:hover {\n",
              "      background-color: #434B5C;\n",
              "      box-shadow: 0px 1px 3px 1px rgba(0, 0, 0, 0.15);\n",
              "      filter: drop-shadow(0px 1px 2px rgba(0, 0, 0, 0.3));\n",
              "      fill: #FFFFFF;\n",
              "    }\n",
              "  </style>\n",
              "\n",
              "      <script>\n",
              "        const buttonEl =\n",
              "          document.querySelector('#df-388151d3-e5b9-4c4c-ba1f-0ac2b9a4b226 button.colab-df-convert');\n",
              "        buttonEl.style.display =\n",
              "          google.colab.kernel.accessAllowed ? 'block' : 'none';\n",
              "\n",
              "        async function convertToInteractive(key) {\n",
              "          const element = document.querySelector('#df-388151d3-e5b9-4c4c-ba1f-0ac2b9a4b226');\n",
              "          const dataTable =\n",
              "            await google.colab.kernel.invokeFunction('convertToInteractive',\n",
              "                                                     [key], {});\n",
              "          if (!dataTable) return;\n",
              "\n",
              "          const docLinkHtml = 'Like what you see? Visit the ' +\n",
              "            '<a target=\"_blank\" href=https://colab.research.google.com/notebooks/data_table.ipynb>data table notebook</a>'\n",
              "            + ' to learn more about interactive tables.';\n",
              "          element.innerHTML = '';\n",
              "          dataTable['output_type'] = 'display_data';\n",
              "          await google.colab.output.renderOutput(dataTable, element);\n",
              "          const docLink = document.createElement('div');\n",
              "          docLink.innerHTML = docLinkHtml;\n",
              "          element.appendChild(docLink);\n",
              "        }\n",
              "      </script>\n",
              "    </div>\n",
              "  </div>\n",
              "  "
            ]
          },
          "metadata": {},
          "execution_count": 26
        }
      ],
      "source": [
        "!wget https://raw.githubusercontent.com/lupalon/Mareas2022/main/8_OBS_MdP_MAR_2011_MAY_2012.xlsx\n",
        "seriegonz=pd.read_excel(r'8_OBS_MdP_MAR_2011_MAY_2012.xlsx',index_col=0)\n",
        "seriegonz1=seriegonz.OBS.values\n",
        "seriegonz"
      ]
    },
    {
      "cell_type": "code",
      "execution_count": null,
      "metadata": {
        "colab": {
          "base_uri": "https://localhost:8080/"
        },
        "id": "XtJtzQAYQ8-d",
        "outputId": "87f224b1-20a4-46ff-b89b-c2352c0582ed"
      },
      "outputs": [
        {
          "output_type": "stream",
          "name": "stdout",
          "text": [
            "                       OBS\n",
            "FECHA                     \n",
            "2011-03-27 03:00:00  1.969\n",
            "2011-03-27 03:05:00  1.967\n",
            "2011-03-27 03:10:00  1.968\n",
            "2011-03-27 03:15:00  1.968\n",
            "2011-03-27 03:20:00  1.981\n",
            "...                    ...\n",
            "2012-05-16 02:10:00  0.392\n",
            "2012-05-16 02:15:00  0.393\n",
            "2012-05-16 02:20:00  0.398\n",
            "2012-05-16 02:25:00  0.402\n",
            "2012-05-16 02:30:00  0.413\n",
            "\n",
            "[119803 rows x 1 columns]\n"
          ]
        }
      ],
      "source": [
        "seriegonz1\n",
        "print(seriegonz)\n",
        "\n",
        "dt1=1/12"
      ]
    },
    {
      "cell_type": "code",
      "execution_count": null,
      "metadata": {
        "colab": {
          "base_uri": "https://localhost:8080/"
        },
        "id": "DTa4_cxe6n2V",
        "outputId": "2aec7de6-6d8b-4cf1-cd77-302bf347e362"
      },
      "outputs": [
        {
          "output_type": "execute_result",
          "data": {
            "text/plain": [
              "array([ 0.        , 28.9841042 , 30.        , 28.4397295 , 30.0821373 ,\n",
              "       15.0410686 , 13.9430356 , 14.9589314 , 57.96820847])"
            ]
          },
          "metadata": {},
          "execution_count": 28
        }
      ],
      "source": [
        "sigmas"
      ]
    },
    {
      "cell_type": "code",
      "execution_count": null,
      "metadata": {
        "colab": {
          "base_uri": "https://localhost:8080/"
        },
        "id": "_ClaNEpJCh0G",
        "outputId": "b4fe31dd-cb36-40b8-b6a8-576ea415f9b8"
      },
      "outputs": [
        {
          "output_type": "execute_result",
          "data": {
            "text/plain": [
              "119803"
            ]
          },
          "metadata": {},
          "execution_count": 29
        }
      ],
      "source": [
        "len(seriegonz1)"
      ]
    },
    {
      "cell_type": "code",
      "execution_count": null,
      "metadata": {
        "id": "1oyGSzsl1Eju"
      },
      "outputs": [],
      "source": [
        "def AnAr1(seriegonz1,sigmas,dt1):\n",
        "  Q1=9\n",
        "  T1=len(seriegonz1)\n",
        "  s1=seriegonz1[0:(T1-1+T1%2)]\n",
        "  T1=len(s1)\n",
        "  #t1=np.linspace(-(T1//2),T1//2,len(s1))\n",
        "  t1=np.linspace(0,len(s1)*dt1,len(s1))\n",
        "  eleA1=[]\n",
        "  eleB1=[]\n",
        "  for i in range(Q1):\n",
        "    eleA1.append(np.cos(np.radians(sigmas[i]*t1)))\n",
        "    eleB1.append(np.sin(np.radians(sigmas[i]*t1)))\n",
        "  eleA1=np.array(eleA1)\n",
        "  eleB1=np.array(eleB1)\n",
        "  ELE1=np.concatenate((eleA1.T,eleB1.T),axis=1)\n",
        "  vemosELE1=np.linalg.lstsq(ELE1,s1,rcond=None)\n",
        "  R1=np.around(np.sqrt(vemosELE1[0][0:Q1]**2+vemosELE1[0][Q1::]**2),4)\n",
        "  a1=np.around(np.arctan2(vemosELE1[0][Q1::],vemosELE1[0][0:Q1]),4)\n",
        "  a1=a1*180/np.pi\n",
        "  a1[a1<0]=a1[a1<0]+360\n",
        "  a1=np.around(a1,4)\n",
        "  return(R1,a1)"
      ]
    },
    {
      "cell_type": "code",
      "execution_count": null,
      "metadata": {
        "id": "lNISU_wg6RyO"
      },
      "outputs": [],
      "source": [
        "R1,a1=AnAr1(seriegonz1,sigmas,dt1)"
      ]
    },
    {
      "cell_type": "code",
      "execution_count": null,
      "metadata": {
        "colab": {
          "base_uri": "https://localhost:8080/"
        },
        "id": "6QUhgHkxLMnn",
        "outputId": "9442bb52-184f-4a61-de40-f2320085001d"
      },
      "outputs": [
        {
          "output_type": "execute_result",
          "data": {
            "text/plain": [
              "array([0.9551, 0.3536, 0.0541, 0.1015, 0.0184, 0.1628, 0.1754, 0.0472,\n",
              "       0.0374])"
            ]
          },
          "metadata": {},
          "execution_count": 32
        }
      ],
      "source": [
        "R1"
      ]
    },
    {
      "cell_type": "code",
      "execution_count": null,
      "metadata": {
        "colab": {
          "base_uri": "https://localhost:8080/"
        },
        "id": "iX0jP1p6k7Gt",
        "outputId": "8dd62a3a-423a-4a8f-c1b8-23b958474590"
      },
      "outputs": [
        {
          "output_type": "execute_result",
          "data": {
            "text/plain": [
              "array([  0.    ,  39.0012, 286.9364,  94.1312, 273.9131,  22.9985,\n",
              "       321.3597, 213.0478,   8.3595])"
            ]
          },
          "metadata": {},
          "execution_count": 33
        }
      ],
      "source": [
        "a1"
      ]
    },
    {
      "cell_type": "code",
      "execution_count": null,
      "metadata": {
        "id": "M6l18IGl_vmZ"
      },
      "outputs": [],
      "source": [
        "def pred(R1,a1,t1,sigmas):\n",
        "    fechas_pred=pd.date_range(\"27-03-11 00:00:00\", periods=len(seriegonz1), freq= \"5min\")\n",
        "    Q1=len(R1)\n",
        "    ondas=pd.DataFrame()\n",
        "    for i in range(Q1):\n",
        "        ondas.insert(i,i,(R1[i])*np.cos(np.deg2rad(sigmas[i]*t1-a1[i])))\n",
        "    suma=ondas.sum(axis=1).values\n",
        "    prediccion=pd.DataFrame(np.around(suma,4),index=fechas_pred,columns=['pred'])\n",
        "    return prediccion"
      ]
    },
    {
      "cell_type": "code",
      "execution_count": null,
      "metadata": {
        "id": "9irjdum_AJs5",
        "colab": {
          "base_uri": "https://localhost:8080/",
          "height": 424
        },
        "outputId": "e4ae3347-4576-4d50-d8cf-6d633305a9ed"
      },
      "outputs": [
        {
          "output_type": "execute_result",
          "data": {
            "text/plain": [
              "                    fechas    pred\n",
              "0      2011-03-27 00:00:00  1.5239\n",
              "1      2011-03-27 00:05:00  1.5330\n",
              "2      2011-03-27 00:10:00  1.5413\n",
              "3      2011-03-27 00:15:00  1.5486\n",
              "4      2011-03-27 00:20:00  1.5550\n",
              "...                    ...     ...\n",
              "119798 2012-05-15 23:10:00  0.8315\n",
              "119799 2012-05-15 23:15:00  0.8417\n",
              "119800 2012-05-15 23:20:00  0.8524\n",
              "119801 2012-05-15 23:25:00  0.8637\n",
              "119802 2012-05-15 23:30:00  0.8756\n",
              "\n",
              "[119803 rows x 2 columns]"
            ],
            "text/html": [
              "\n",
              "  <div id=\"df-b193aae9-2e15-4e47-a7fe-ccc8bf1f3cbc\">\n",
              "    <div class=\"colab-df-container\">\n",
              "      <div>\n",
              "<style scoped>\n",
              "    .dataframe tbody tr th:only-of-type {\n",
              "        vertical-align: middle;\n",
              "    }\n",
              "\n",
              "    .dataframe tbody tr th {\n",
              "        vertical-align: top;\n",
              "    }\n",
              "\n",
              "    .dataframe thead th {\n",
              "        text-align: right;\n",
              "    }\n",
              "</style>\n",
              "<table border=\"1\" class=\"dataframe\">\n",
              "  <thead>\n",
              "    <tr style=\"text-align: right;\">\n",
              "      <th></th>\n",
              "      <th>fechas</th>\n",
              "      <th>pred</th>\n",
              "    </tr>\n",
              "  </thead>\n",
              "  <tbody>\n",
              "    <tr>\n",
              "      <th>0</th>\n",
              "      <td>2011-03-27 00:00:00</td>\n",
              "      <td>1.5239</td>\n",
              "    </tr>\n",
              "    <tr>\n",
              "      <th>1</th>\n",
              "      <td>2011-03-27 00:05:00</td>\n",
              "      <td>1.5330</td>\n",
              "    </tr>\n",
              "    <tr>\n",
              "      <th>2</th>\n",
              "      <td>2011-03-27 00:10:00</td>\n",
              "      <td>1.5413</td>\n",
              "    </tr>\n",
              "    <tr>\n",
              "      <th>3</th>\n",
              "      <td>2011-03-27 00:15:00</td>\n",
              "      <td>1.5486</td>\n",
              "    </tr>\n",
              "    <tr>\n",
              "      <th>4</th>\n",
              "      <td>2011-03-27 00:20:00</td>\n",
              "      <td>1.5550</td>\n",
              "    </tr>\n",
              "    <tr>\n",
              "      <th>...</th>\n",
              "      <td>...</td>\n",
              "      <td>...</td>\n",
              "    </tr>\n",
              "    <tr>\n",
              "      <th>119798</th>\n",
              "      <td>2012-05-15 23:10:00</td>\n",
              "      <td>0.8315</td>\n",
              "    </tr>\n",
              "    <tr>\n",
              "      <th>119799</th>\n",
              "      <td>2012-05-15 23:15:00</td>\n",
              "      <td>0.8417</td>\n",
              "    </tr>\n",
              "    <tr>\n",
              "      <th>119800</th>\n",
              "      <td>2012-05-15 23:20:00</td>\n",
              "      <td>0.8524</td>\n",
              "    </tr>\n",
              "    <tr>\n",
              "      <th>119801</th>\n",
              "      <td>2012-05-15 23:25:00</td>\n",
              "      <td>0.8637</td>\n",
              "    </tr>\n",
              "    <tr>\n",
              "      <th>119802</th>\n",
              "      <td>2012-05-15 23:30:00</td>\n",
              "      <td>0.8756</td>\n",
              "    </tr>\n",
              "  </tbody>\n",
              "</table>\n",
              "<p>119803 rows × 2 columns</p>\n",
              "</div>\n",
              "      <button class=\"colab-df-convert\" onclick=\"convertToInteractive('df-b193aae9-2e15-4e47-a7fe-ccc8bf1f3cbc')\"\n",
              "              title=\"Convert this dataframe to an interactive table.\"\n",
              "              style=\"display:none;\">\n",
              "        \n",
              "  <svg xmlns=\"http://www.w3.org/2000/svg\" height=\"24px\"viewBox=\"0 0 24 24\"\n",
              "       width=\"24px\">\n",
              "    <path d=\"M0 0h24v24H0V0z\" fill=\"none\"/>\n",
              "    <path d=\"M18.56 5.44l.94 2.06.94-2.06 2.06-.94-2.06-.94-.94-2.06-.94 2.06-2.06.94zm-11 1L8.5 8.5l.94-2.06 2.06-.94-2.06-.94L8.5 2.5l-.94 2.06-2.06.94zm10 10l.94 2.06.94-2.06 2.06-.94-2.06-.94-.94-2.06-.94 2.06-2.06.94z\"/><path d=\"M17.41 7.96l-1.37-1.37c-.4-.4-.92-.59-1.43-.59-.52 0-1.04.2-1.43.59L10.3 9.45l-7.72 7.72c-.78.78-.78 2.05 0 2.83L4 21.41c.39.39.9.59 1.41.59.51 0 1.02-.2 1.41-.59l7.78-7.78 2.81-2.81c.8-.78.8-2.07 0-2.86zM5.41 20L4 18.59l7.72-7.72 1.47 1.35L5.41 20z\"/>\n",
              "  </svg>\n",
              "      </button>\n",
              "      \n",
              "  <style>\n",
              "    .colab-df-container {\n",
              "      display:flex;\n",
              "      flex-wrap:wrap;\n",
              "      gap: 12px;\n",
              "    }\n",
              "\n",
              "    .colab-df-convert {\n",
              "      background-color: #E8F0FE;\n",
              "      border: none;\n",
              "      border-radius: 50%;\n",
              "      cursor: pointer;\n",
              "      display: none;\n",
              "      fill: #1967D2;\n",
              "      height: 32px;\n",
              "      padding: 0 0 0 0;\n",
              "      width: 32px;\n",
              "    }\n",
              "\n",
              "    .colab-df-convert:hover {\n",
              "      background-color: #E2EBFA;\n",
              "      box-shadow: 0px 1px 2px rgba(60, 64, 67, 0.3), 0px 1px 3px 1px rgba(60, 64, 67, 0.15);\n",
              "      fill: #174EA6;\n",
              "    }\n",
              "\n",
              "    [theme=dark] .colab-df-convert {\n",
              "      background-color: #3B4455;\n",
              "      fill: #D2E3FC;\n",
              "    }\n",
              "\n",
              "    [theme=dark] .colab-df-convert:hover {\n",
              "      background-color: #434B5C;\n",
              "      box-shadow: 0px 1px 3px 1px rgba(0, 0, 0, 0.15);\n",
              "      filter: drop-shadow(0px 1px 2px rgba(0, 0, 0, 0.3));\n",
              "      fill: #FFFFFF;\n",
              "    }\n",
              "  </style>\n",
              "\n",
              "      <script>\n",
              "        const buttonEl =\n",
              "          document.querySelector('#df-b193aae9-2e15-4e47-a7fe-ccc8bf1f3cbc button.colab-df-convert');\n",
              "        buttonEl.style.display =\n",
              "          google.colab.kernel.accessAllowed ? 'block' : 'none';\n",
              "\n",
              "        async function convertToInteractive(key) {\n",
              "          const element = document.querySelector('#df-b193aae9-2e15-4e47-a7fe-ccc8bf1f3cbc');\n",
              "          const dataTable =\n",
              "            await google.colab.kernel.invokeFunction('convertToInteractive',\n",
              "                                                     [key], {});\n",
              "          if (!dataTable) return;\n",
              "\n",
              "          const docLinkHtml = 'Like what you see? Visit the ' +\n",
              "            '<a target=\"_blank\" href=https://colab.research.google.com/notebooks/data_table.ipynb>data table notebook</a>'\n",
              "            + ' to learn more about interactive tables.';\n",
              "          element.innerHTML = '';\n",
              "          dataTable['output_type'] = 'display_data';\n",
              "          await google.colab.output.renderOutput(dataTable, element);\n",
              "          const docLink = document.createElement('div');\n",
              "          docLink.innerHTML = docLinkHtml;\n",
              "          element.appendChild(docLink);\n",
              "        }\n",
              "      </script>\n",
              "    </div>\n",
              "  </div>\n",
              "  "
            ]
          },
          "metadata": {},
          "execution_count": 50
        }
      ],
      "source": [
        "ts=np.linspace(0,len(seriegonz1)*dt1,len(seriegonz1))\n",
        "pred7=pred(R1,a1,ts,sigmas)\n",
        "pred7.index.name='fechas'\n",
        "pred7.reset_index(inplace=True)\n",
        "pred7"
      ]
    },
    {
      "cell_type": "code",
      "execution_count": null,
      "metadata": {
        "colab": {
          "base_uri": "https://localhost:8080/",
          "height": 424
        },
        "id": "2NKwf0sTim90",
        "outputId": "d8268a07-48db-463f-a030-91770dd591d2"
      },
      "outputs": [
        {
          "output_type": "execute_result",
          "data": {
            "text/plain": [
              "                    fechas    pred\n",
              "10     2011-03-27 00:50:00  1.5734\n",
              "168    2011-03-27 14:00:00  1.0973\n",
              "309    2011-03-28 01:45:00  1.5500\n",
              "469    2011-03-28 15:05:00  1.0412\n",
              "609    2011-03-29 02:45:00  1.5215\n",
              "...                    ...     ...\n",
              "119109 2012-05-13 13:45:00  1.0833\n",
              "119248 2012-05-14 01:20:00  1.5779\n",
              "119409 2012-05-14 14:45:00  1.0928\n",
              "119548 2012-05-15 02:20:00  1.4981\n",
              "119709 2012-05-15 15:45:00  1.1220\n",
              "\n",
              "[804 rows x 2 columns]"
            ],
            "text/html": [
              "\n",
              "  <div id=\"df-c158ed68-0175-4b3f-8123-d215b38c5412\">\n",
              "    <div class=\"colab-df-container\">\n",
              "      <div>\n",
              "<style scoped>\n",
              "    .dataframe tbody tr th:only-of-type {\n",
              "        vertical-align: middle;\n",
              "    }\n",
              "\n",
              "    .dataframe tbody tr th {\n",
              "        vertical-align: top;\n",
              "    }\n",
              "\n",
              "    .dataframe thead th {\n",
              "        text-align: right;\n",
              "    }\n",
              "</style>\n",
              "<table border=\"1\" class=\"dataframe\">\n",
              "  <thead>\n",
              "    <tr style=\"text-align: right;\">\n",
              "      <th></th>\n",
              "      <th>fechas</th>\n",
              "      <th>pred</th>\n",
              "    </tr>\n",
              "  </thead>\n",
              "  <tbody>\n",
              "    <tr>\n",
              "      <th>10</th>\n",
              "      <td>2011-03-27 00:50:00</td>\n",
              "      <td>1.5734</td>\n",
              "    </tr>\n",
              "    <tr>\n",
              "      <th>168</th>\n",
              "      <td>2011-03-27 14:00:00</td>\n",
              "      <td>1.0973</td>\n",
              "    </tr>\n",
              "    <tr>\n",
              "      <th>309</th>\n",
              "      <td>2011-03-28 01:45:00</td>\n",
              "      <td>1.5500</td>\n",
              "    </tr>\n",
              "    <tr>\n",
              "      <th>469</th>\n",
              "      <td>2011-03-28 15:05:00</td>\n",
              "      <td>1.0412</td>\n",
              "    </tr>\n",
              "    <tr>\n",
              "      <th>609</th>\n",
              "      <td>2011-03-29 02:45:00</td>\n",
              "      <td>1.5215</td>\n",
              "    </tr>\n",
              "    <tr>\n",
              "      <th>...</th>\n",
              "      <td>...</td>\n",
              "      <td>...</td>\n",
              "    </tr>\n",
              "    <tr>\n",
              "      <th>119109</th>\n",
              "      <td>2012-05-13 13:45:00</td>\n",
              "      <td>1.0833</td>\n",
              "    </tr>\n",
              "    <tr>\n",
              "      <th>119248</th>\n",
              "      <td>2012-05-14 01:20:00</td>\n",
              "      <td>1.5779</td>\n",
              "    </tr>\n",
              "    <tr>\n",
              "      <th>119409</th>\n",
              "      <td>2012-05-14 14:45:00</td>\n",
              "      <td>1.0928</td>\n",
              "    </tr>\n",
              "    <tr>\n",
              "      <th>119548</th>\n",
              "      <td>2012-05-15 02:20:00</td>\n",
              "      <td>1.4981</td>\n",
              "    </tr>\n",
              "    <tr>\n",
              "      <th>119709</th>\n",
              "      <td>2012-05-15 15:45:00</td>\n",
              "      <td>1.1220</td>\n",
              "    </tr>\n",
              "  </tbody>\n",
              "</table>\n",
              "<p>804 rows × 2 columns</p>\n",
              "</div>\n",
              "      <button class=\"colab-df-convert\" onclick=\"convertToInteractive('df-c158ed68-0175-4b3f-8123-d215b38c5412')\"\n",
              "              title=\"Convert this dataframe to an interactive table.\"\n",
              "              style=\"display:none;\">\n",
              "        \n",
              "  <svg xmlns=\"http://www.w3.org/2000/svg\" height=\"24px\"viewBox=\"0 0 24 24\"\n",
              "       width=\"24px\">\n",
              "    <path d=\"M0 0h24v24H0V0z\" fill=\"none\"/>\n",
              "    <path d=\"M18.56 5.44l.94 2.06.94-2.06 2.06-.94-2.06-.94-.94-2.06-.94 2.06-2.06.94zm-11 1L8.5 8.5l.94-2.06 2.06-.94-2.06-.94L8.5 2.5l-.94 2.06-2.06.94zm10 10l.94 2.06.94-2.06 2.06-.94-2.06-.94-.94-2.06-.94 2.06-2.06.94z\"/><path d=\"M17.41 7.96l-1.37-1.37c-.4-.4-.92-.59-1.43-.59-.52 0-1.04.2-1.43.59L10.3 9.45l-7.72 7.72c-.78.78-.78 2.05 0 2.83L4 21.41c.39.39.9.59 1.41.59.51 0 1.02-.2 1.41-.59l7.78-7.78 2.81-2.81c.8-.78.8-2.07 0-2.86zM5.41 20L4 18.59l7.72-7.72 1.47 1.35L5.41 20z\"/>\n",
              "  </svg>\n",
              "      </button>\n",
              "      \n",
              "  <style>\n",
              "    .colab-df-container {\n",
              "      display:flex;\n",
              "      flex-wrap:wrap;\n",
              "      gap: 12px;\n",
              "    }\n",
              "\n",
              "    .colab-df-convert {\n",
              "      background-color: #E8F0FE;\n",
              "      border: none;\n",
              "      border-radius: 50%;\n",
              "      cursor: pointer;\n",
              "      display: none;\n",
              "      fill: #1967D2;\n",
              "      height: 32px;\n",
              "      padding: 0 0 0 0;\n",
              "      width: 32px;\n",
              "    }\n",
              "\n",
              "    .colab-df-convert:hover {\n",
              "      background-color: #E2EBFA;\n",
              "      box-shadow: 0px 1px 2px rgba(60, 64, 67, 0.3), 0px 1px 3px 1px rgba(60, 64, 67, 0.15);\n",
              "      fill: #174EA6;\n",
              "    }\n",
              "\n",
              "    [theme=dark] .colab-df-convert {\n",
              "      background-color: #3B4455;\n",
              "      fill: #D2E3FC;\n",
              "    }\n",
              "\n",
              "    [theme=dark] .colab-df-convert:hover {\n",
              "      background-color: #434B5C;\n",
              "      box-shadow: 0px 1px 3px 1px rgba(0, 0, 0, 0.15);\n",
              "      filter: drop-shadow(0px 1px 2px rgba(0, 0, 0, 0.3));\n",
              "      fill: #FFFFFF;\n",
              "    }\n",
              "  </style>\n",
              "\n",
              "      <script>\n",
              "        const buttonEl =\n",
              "          document.querySelector('#df-c158ed68-0175-4b3f-8123-d215b38c5412 button.colab-df-convert');\n",
              "        buttonEl.style.display =\n",
              "          google.colab.kernel.accessAllowed ? 'block' : 'none';\n",
              "\n",
              "        async function convertToInteractive(key) {\n",
              "          const element = document.querySelector('#df-c158ed68-0175-4b3f-8123-d215b38c5412');\n",
              "          const dataTable =\n",
              "            await google.colab.kernel.invokeFunction('convertToInteractive',\n",
              "                                                     [key], {});\n",
              "          if (!dataTable) return;\n",
              "\n",
              "          const docLinkHtml = 'Like what you see? Visit the ' +\n",
              "            '<a target=\"_blank\" href=https://colab.research.google.com/notebooks/data_table.ipynb>data table notebook</a>'\n",
              "            + ' to learn more about interactive tables.';\n",
              "          element.innerHTML = '';\n",
              "          dataTable['output_type'] = 'display_data';\n",
              "          await google.colab.output.renderOutput(dataTable, element);\n",
              "          const docLink = document.createElement('div');\n",
              "          docLink.innerHTML = docLinkHtml;\n",
              "          element.appendChild(docLink);\n",
              "        }\n",
              "      </script>\n",
              "    </div>\n",
              "  </div>\n",
              "  "
            ]
          },
          "metadata": {},
          "execution_count": 66
        }
      ],
      "source": [
        "posicionM=find_peaks(pred7.pred)[0]\n",
        "posicionm=find_peaks(-pred7.pred)[0]\n",
        "altas=pred7.iloc[posicionM]\n",
        "bajas=pred7.iloc[posicionm]\n",
        "altas"
      ]
    },
    {
      "cell_type": "code",
      "execution_count": null,
      "metadata": {
        "colab": {
          "base_uri": "https://localhost:8080/",
          "height": 331
        },
        "id": "Uq4So6VWoons",
        "outputId": "8ea03330-d768-473b-f194-c1262b8c19a9"
      },
      "outputs": [
        {
          "output_type": "execute_result",
          "data": {
            "text/plain": [
              "Text(0.5, 0, 'Tiempo (días)')"
            ]
          },
          "metadata": {},
          "execution_count": 67
        },
        {
          "output_type": "display_data",
          "data": {
            "text/plain": [
              "<Figure size 864x288 with 1 Axes>"
            ],
            "image/png": "[encoded data removed]"
          },
          "metadata": {
            "needs_background": "light"
          }
        }
      ],
      "source": [
        "fig,axs=plt.subplots(1,1,figsize=(12,4))\n",
        "#axs.plot(seriegonz.FECHA,seriegonz.OBS)\n",
        "axs.plot(pred7.fechas.iloc[0:1500],pred7.pred.iloc[0:1500],':')\n",
        "axs.plot(altas['fechas'].iloc[0:10],altas['pred'].iloc[0:10],'bo',fillstyle='none')\n",
        "axs.plot(bajas['fechas'].iloc[0:10],bajas['pred'].iloc[0:10],'go',fillstyle='none')\n",
        "#ax.plot(altas['fechas'].iloc[0:7],altas['fechas'].iloc[0:7],'bo',fillstyle='none')\n",
        "#ax.plot(bajas['fechas'].iloc[0:7],bajas['OBS'].iloc[0:7],'go',fillstyle='none')\n",
        "fig.suptitle('Predicción de Mareas + M4 y serie temporal de Mar del Plata 27-03-2011 / 16-05-2012', x=.5,y=0.95,fontsize=15)\n",
        "plt.legend((\"Serie temporal\", \"Predición de mareas\"),bbox_to_anchor=[-.3, 1.15], loc='upper left')\n",
        "plt.ylabel('Nivel del mar (m)', fontsize=15)\n",
        "plt.xlabel('Tiempo (días)',fontsize=15)"
      ]
    }
  ],
  "metadata": {
    "colab": {
      "provenance": []
    },
    "kernelspec": {
      "display_name": "Python 3",
      "name": "python3"
    },
    "language_info": {
      "name": "python"
    }
  },
  "nbformat": 4,
  "nbformat_minor": 0
}