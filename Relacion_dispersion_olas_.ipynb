{
  "nbformat": 4,
  "nbformat_minor": 0,
  "metadata": {
    "colab": {
      "provenance": []
    },
    "kernelspec": {
      "name": "python3",
      "display_name": "Python 3"
    },
    "language_info": {
      "name": "python"
    }
  },
  "cells": [
    {
      "cell_type": "markdown",
      "metadata": {
        "id": "xQ18Ft4wi5pd"
      },
      "source": [
        "#Relación de Dispersión\n",
        "\n",
        "La relación de dispersión obtenida en la teoría lineal de olas está dada por:\n",
        "\n",
        "$\\omega^2 = g k \\tanh(kh)$\n",
        "\n",
        "donde $\\omega$ es la frecuencia angular, $g$ la aceleración de la gravedad, $k$ el número de onda y $h$ la profundidad.\n",
        "\n"
      ]
    },
    {
      "cell_type": "markdown",
      "metadata": {
        "id": "wrLsaLhKlVCB"
      },
      "source": [
        "###Resolviendo la relación de dispersión\n",
        "Definiendo $x = kh$ y $\\beta = \\frac{\\omega^2 h}{g}$ puedo escribir la relación de dispersión como:\n",
        "\n",
        "$\\frac{\\beta}{x} = \\tanh(x)$\n",
        "\n",
        "Con esta expresión, puedo aplicar un método iterativo para encontrar $x$.\n",
        "\n",
        "Para el método de Newton-Raphson, defino: $f(x) = \\tanh(x) - \\frac{\\beta}{x}$ y $f'(x) =  1-\\tanh^2 (x) + \\frac{\\beta}{x^2}$\n",
        "\n",
        "Luego, puedo usar la expresión iterativa:\n",
        "\n",
        "$x_{n+1} = x_{n}-\\frac{f(x_{n})}{f'(x_{n})}$\n",
        "\n",
        "y resolver la ecuación.\n",
        "\n",
        "Es necesario un valor inicial $x_{0}$ y determinar la precisión que queremos para nuestra solución."
      ]
    },
    {
      "cell_type": "code",
      "source": [
        "import numpy as np\n",
        "import pandas as pd\n",
        "import matplotlib.pyplot as plt"
      ],
      "metadata": {
        "id": "kWrGdzZBI11m"
      },
      "execution_count": null,
      "outputs": []
    },
    {
      "cell_type": "code",
      "source": [
        "#@title Defino \"longitud\" :Función que obtiene L resolviendo la relación de dispersión con el método de N-R\n",
        "beta=lambda h,T:h*(2*np.pi/T)**2/9.81\n",
        "f=lambda x,b: np.tanh(x)-b/x\n",
        "df=lambda x,b: (1-np.tanh(x)**2)+b/(x**2)\n",
        "def longitud(h,T,x0,ex):\n",
        "  be=beta(h,T)\n",
        "  x1=x0-f(x0,be)/df(x0,be)\n",
        "  paso=[]\n",
        "  paso.append(x0)\n",
        "  while abs(x1-x0)>ex:\n",
        "    x0=x1\n",
        "    x1=x1-f(x1,be)/df(x1,be)\n",
        "    paso.append(x1)\n",
        "  k=x1/h\n",
        "  L=2*np.pi/k\n",
        "  return L, paso"
      ],
      "metadata": {
        "id": "vYvKY7pueJLJ"
      },
      "execution_count": null,
      "outputs": []
    },
    {
      "cell_type": "markdown",
      "source": [
        "La función **longitud(h,T,x0,ex)** está definida de manera tal que devuelve *L* y también un array con todos los valores de x=k*h que fue encontrando hasta llegar a la solución."
      ],
      "metadata": {
        "id": "L0FwK7VGi0M_"
      }
    },
    {
      "cell_type": "code",
      "source": [
        "L,iteraciones=longitud(5,15,0.1,0.0001)\n",
        "L,len(iteraciones)"
      ],
      "metadata": {
        "colab": {
          "base_uri": "https://localhost:8080/"
        },
        "id": "Z3J4ZFfnfHNM",
        "outputId": "be0cfdef-43ea-4bb8-c1be-8d215e69964c"
      },
      "execution_count": null,
      "outputs": [
        {
          "output_type": "execute_result",
          "data": {
            "text/plain": [
              "(103.4855879990278, 5)"
            ]
          },
          "metadata": {},
          "execution_count": 8
        }
      ]
    },
    {
      "cell_type": "markdown",
      "source": [
        "Si quiero calcular L para todos los valores de h y T que me piden en el TP:"
      ],
      "metadata": {
        "id": "wnysaJN4jKjS"
      }
    },
    {
      "cell_type": "code",
      "source": [
        "h=[5,20,100]\n",
        "T=np.arange(1,16,1)\n",
        "ele=np.empty((len(T),len(h)))\n",
        "pasos=np.empty((len(T),len(h)))\n",
        "for i in range(len(h)):\n",
        "  for j in range(len(T)):\n",
        "    L,iter=longitud(h[i],T[j],0.1,0.0001)\n",
        "    ele[j,i]=L\n",
        "    pasos[j,i]=len(iter)\n",
        "    del (L,iter)"
      ],
      "metadata": {
        "id": "YI6xl0wOiS-g"
      },
      "execution_count": null,
      "outputs": []
    },
    {
      "cell_type": "code",
      "source": [
        "print(ele)\n",
        "print(pasos)"
      ],
      "metadata": {
        "colab": {
          "base_uri": "https://localhost:8080/"
        },
        "id": "Q2aSNNo_IkD8",
        "outputId": "3f0e8eb9-18f8-49af-8daa-e7bbd2689964"
      },
      "execution_count": null,
      "outputs": [
        {
          "output_type": "stream",
          "name": "stdout",
          "text": [
            "[[  1.56130999   1.56130999   1.56130999]\n",
            " [  6.24470681   6.24523997   6.24523997]\n",
            " [ 13.76238574  14.05178945  14.05178993]\n",
            " [ 22.19816867  24.97882724  24.98095987]\n",
            " [ 30.30922666  38.91067283  39.03274979]\n",
            " [ 38.08973813  55.04954297  56.20715968]\n",
            " [ 45.65524086  71.98212929  76.50417835]\n",
            " [ 53.08152309  88.79267466  99.92314924]\n",
            " [ 60.41394923 105.211631   126.45388637]\n",
            " [ 67.68045433 121.23690666 156.03175792]\n",
            " [ 74.8989873  136.93096951 188.43922692]\n",
            " [ 82.08155639 152.35895252 223.22011783]\n",
            " [ 89.23648621 167.57488453 259.71529824]\n",
            " [ 96.36970891 182.62096346 297.22033128]\n",
            " [103.485588   197.52967805 335.14390663]]\n",
            "[[13. 15. 17.]\n",
            " [11. 13. 15.]\n",
            " [ 9. 11. 14.]\n",
            " [ 8. 11. 13.]\n",
            " [ 8. 10. 12.]\n",
            " [ 7.  9. 12.]\n",
            " [ 7.  9. 11.]\n",
            " [ 6.  8. 11.]\n",
            " [ 6.  8. 11.]\n",
            " [ 6.  8. 10.]\n",
            " [ 6.  7. 10.]\n",
            " [ 6.  7. 10.]\n",
            " [ 5.  7.  9.]\n",
            " [ 5.  7.  9.]\n",
            " [ 5.  7.  9.]]\n"
          ]
        }
      ]
    },
    {
      "cell_type": "markdown",
      "source": [
        "###Algunas aproximaciones\n",
        "\n",
        "*Eckart (1951)*\n",
        "\n",
        "$\\omega^{2} = gk\\sqrt{\\tanh (\\frac{\\omega^2}{g} h)}$\n",
        "\n",
        "*Hunt (1979)*\n",
        "\n",
        "$(kh)^2 = y^2 + \\frac{y}{1+\\sum_{n=1}^6 d_{n}y^n}$\n",
        "\n",
        "con $y=\\omega^2h/g = k_{0}h$ y $d_{1}=0.6666666666$, $d_{2}=0.3553553553$, $d_{3}=0.1608465608$, $d_{4}=0.0632098765$, $d_{5}=0.0217540484$ y $d_{6}=0.0065407983$\n",
        "\n",
        "*Guo (2002)* propuso la formulación:\n",
        "\n",
        "$L = \\frac {2\\pi h}{x^2(1-e^{-x^\\beta})^{-\\frac{1}{\\beta}}} $ donde $x = \\frac{ h\\omega}{\\sqrt{gh}}$ y $\\beta = 2.4908$"
      ],
      "metadata": {
        "id": "K1YXmccUrrox"
      }
    },
    {
      "cell_type": "markdown",
      "metadata": {
        "id": "b73ANkOkK8Gk"
      },
      "source": [
        "## Otras formas de escribir la relación de dispersión\n",
        "\n",
        "$\\omega^2 = gk \\tanh (kh)$\n",
        "\n",
        "$C^2 = (\\frac{L}{T})^2 = \\frac{g}{k} \\tanh (kh)$\n",
        "\n",
        "$L= \\frac{g}{2\\pi} T^2 \\tanh(kh)$\n",
        "\n",
        "Y la útlima podría reescribise, tomando $L_{o} = \\frac{g}{2\\pi} T^2 = 1.56 T^2$ [**Longitud de onda en AP**]\n",
        "\n",
        "$L = L_{o} \\tanh (kh)$\n",
        "\n",
        "$C = C_{o} \\tanh (kh)$\n",
        "\n"
      ]
    }
  ]
}